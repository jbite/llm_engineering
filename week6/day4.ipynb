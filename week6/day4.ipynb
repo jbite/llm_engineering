{
 "cells": [
  {
   "cell_type": "markdown",
   "id": "db8736a7-ed94-441c-9556-831fa57b5a10",
   "metadata": {},
   "source": [
    "# The Product Pricer Continued\n",
    "\n",
    "A model that can estimate how much something costs, from its description.\n",
    "\n",
    "## Enter The Frontier!\n",
    "\n",
    "And now - we put Frontier Models to the test.\n",
    "\n",
    "### 2 important points:\n",
    "\n",
    "It's important to appreciate that we aren't Training the frontier models. We're only providing them with the Test dataset to see how they perform. They don't gain the benefit of the 400,000 training examples that we provided to the Traditional ML models.\n",
    "\n",
    "HAVING SAID THAT...\n",
    "\n",
    "It's entirely possible that in their monstrously large training data, they've already been exposed to all the products in the training AND the test set. So there could be test \"contamination\" here which gives them an unfair advantage. We should keep that in mind."
   ]
  },
  {
   "cell_type": "code",
   "execution_count": 1,
   "id": "681c717b-4c24-4ac3-a5f3-3c5881d6e70a",
   "metadata": {},
   "outputs": [],
   "source": [
    "# imports\n",
    "\n",
    "import os\n",
    "import re\n",
    "import math\n",
    "import json\n",
    "import random\n",
    "from dotenv import load_dotenv\n",
    "from huggingface_hub import login\n",
    "from items import Item\n",
    "import matplotlib.pyplot as plt\n",
    "import numpy as np\n",
    "import pickle\n",
    "from collections import Counter\n",
    "from openai import OpenAI\n",
    "from anthropic import Anthropic"
   ]
  },
  {
   "cell_type": "code",
   "execution_count": 2,
   "id": "21a3833e-4093-43b0-8f7b-839c50b911ea",
   "metadata": {},
   "outputs": [],
   "source": [
    "# moved our Tester into a separate package\n",
    "# call it with Tester.test(function_name, test_dataset)\n",
    "\n",
    "from testing import Tester"
   ]
  },
  {
   "cell_type": "code",
   "execution_count": 3,
   "id": "36d05bdc-0155-4c72-a7ee-aa4e614ffd3c",
   "metadata": {},
   "outputs": [],
   "source": [
    "# environment\n",
    "\n",
    "load_dotenv()\n",
    "os.environ['OPENAI_API_KEY'] = os.getenv('OPENAI_API_KEY', 'your-key-if-not-using-env')\n",
    "os.environ['ANTHROPIC_API_KEY'] = os.getenv('ANTHROPIC_API_KEY', 'your-key-if-not-using-env')\n",
    "os.environ['HF_TOKEN'] = os.getenv('HF_TOKEN', 'your-key-if-not-using-env')"
   ]
  },
  {
   "cell_type": "code",
   "execution_count": 4,
   "id": "4dd3aad2-6f99-433c-8792-e461d2f06622",
   "metadata": {},
   "outputs": [
    {
     "name": "stderr",
     "output_type": "stream",
     "text": [
      "Note: Environment variable`HF_TOKEN` is set and is the current active token independently from the token you've just configured.\n"
     ]
    }
   ],
   "source": [
    "# Log in to HuggingFace\n",
    "\n",
    "hf_token = os.environ['HF_TOKEN']\n",
    "login(hf_token, add_to_git_credential=True)"
   ]
  },
  {
   "cell_type": "code",
   "execution_count": 5,
   "id": "b0a6fb86-74a4-403c-ab25-6db2d74e9d2b",
   "metadata": {},
   "outputs": [],
   "source": [
    "openai = OpenAI()\n",
    "claude = Anthropic()"
   ]
  },
  {
   "cell_type": "code",
   "execution_count": 6,
   "id": "c830ed3e-24ee-4af6-a07b-a1bfdcd39278",
   "metadata": {},
   "outputs": [],
   "source": [
    "%matplotlib inline"
   ]
  },
  {
   "cell_type": "code",
   "execution_count": 7,
   "id": "5c9b05f4-c9eb-462c-8d86-de9140a2d985",
   "metadata": {},
   "outputs": [],
   "source": [
    "# Let's avoid curating all our data again! Load in the pickle files:\n",
    "\n",
    "with open('train.pkl', 'rb') as file:\n",
    "    train = pickle.load(file)\n",
    "\n",
    "with open('test.pkl', 'rb') as file:\n",
    "    test = pickle.load(file)"
   ]
  },
  {
   "cell_type": "markdown",
   "id": "e5856173-e68c-4975-a769-5f1736e227a5",
   "metadata": {},
   "source": [
    "# Before we look at the Frontier\n",
    "\n",
    "## There is one more model we could consider"
   ]
  },
  {
   "cell_type": "code",
   "execution_count": 8,
   "id": "f3e81ee0-828a-4af8-9ccf-177af6c78a0c",
   "metadata": {},
   "outputs": [],
   "source": [
    "# Write the test set to a CSV\n",
    "\n",
    "import csv\n",
    "with open('human_input.csv', 'w', encoding=\"utf-8\") as csvfile:\n",
    "    writer = csv.writer(csvfile)\n",
    "    for t in test[:250]:\n",
    "        writer.writerow([t.test_prompt(), 0])"
   ]
  },
  {
   "cell_type": "code",
   "execution_count": 9,
   "id": "aeafac31-1a10-4029-b190-030378e2fe01",
   "metadata": {},
   "outputs": [],
   "source": [
    "# Read it back in\n",
    "\n",
    "human_predictions = []\n",
    "with open('human_output.csv', 'r', encoding=\"utf-8\") as csvfile:\n",
    "    reader = csv.reader(csvfile)\n",
    "    for row in reader:\n",
    "        human_predictions.append(float(row[1]))"
   ]
  },
  {
   "cell_type": "code",
   "execution_count": 10,
   "id": "a9709da2-28f0-419e-af71-4ef6c02246ad",
   "metadata": {},
   "outputs": [],
   "source": [
    "def human_pricer(item):\n",
    "    idx = test.index(item)\n",
    "    return human_predictions[idx]"
   ]
  },
  {
   "cell_type": "code",
   "execution_count": 11,
   "id": "e1ba3b3e-4b08-4f0b-9e51-ebb03a86085d",
   "metadata": {},
   "outputs": [
    {
     "name": "stdout",
     "output_type": "stream",
     "text": [
      "\u001b[91m1: Guess: $120.00 Truth: $395.00 Error: $275.00 SLE: 1.41 Item: Ultima Scissor Sharpener - Benchtop Grin...\u001b[0m\n",
      "\u001b[92m2: Guess: $80.00 Truth: $75.99 Error: $4.01 SLE: 0.00 Item: Silky GOMTARO Professional Hand Saw 300m...\u001b[0m\n",
      "\u001b[93m3: Guess: $35.00 Truth: $108.42 Error: $73.42 SLE: 1.24 Item: Fulton 142306 Winch, 1800 lbs, Single-Sp...\u001b[0m\n",
      "\u001b[92m4: Guess: $350.00 Truth: $323.97 Error: $26.03 SLE: 0.01 Item: XPS Rib LT225/75R16/E 115/112Q LRE\u001b[0m\n",
      "\u001b[92m5: Guess: $75.00 Truth: $66.92 Error: $8.08 SLE: 0.01 Item: (Case of 12) Sylvania 20906 FP54/841/HO/...\u001b[0m\n",
      "\u001b[92m6: Guess: $12.00 Truth: $15.53 Error: $3.53 SLE: 0.06 Item: LOGICO Impact Punch Down Tool 110/66 Bla...\u001b[0m\n",
      "\u001b[91m7: Guess: $115.00 Truth: $749.99 Error: $634.99 SLE: 3.49 Item: KLIM Krios Pro Motorcycle Helmet ECE/DOT...\u001b[0m\n",
      "\u001b[92m8: Guess: $100.00 Truth: $112.95 Error: $12.95 SLE: 0.01 Item: Koolzap Compatible with 92-97 F-Series P...\u001b[0m\n",
      "\u001b[91m9: Guess: $300.00 Truth: $73.14 Error: $226.86 SLE: 1.96 Item: Andrea Communications C1-1030600-1 Wnc-2...\u001b[0m\n",
      "\u001b[92m10: Guess: $80.00 Truth: $44.00 Error: $36.00 SLE: 0.35 Item: Two Cherries 20mm Bevel Edge Chisel\u001b[0m\n",
      "\u001b[91m11: Guess: $90.00 Truth: $174.98 Error: $84.98 SLE: 0.43 Item: My PlumbingStuff R2200A Clawfoot Tub Sho...\u001b[0m\n",
      "\u001b[91m12: Guess: $120.00 Truth: $546.60 Error: $426.60 SLE: 2.28 Item: CONCEALED HOT AND COLD WATER SINK FAUCET...\u001b[0m\n",
      "\u001b[91m13: Guess: $300.00 Truth: $102.99 Error: $197.01 SLE: 1.13 Item: Lmhaichao Solar Flood Light, 2 Pack 100W...\u001b[0m\n",
      "\u001b[93m14: Guess: $450.00 Truth: $359.00 Error: $91.00 SLE: 0.05 Item: Honeywell Safety Products by MiniLite 11...\u001b[0m\n",
      "\u001b[92m15: Guess: $280.00 Truth: $277.32 Error: $2.68 SLE: 0.00 Item: Detroit Axle - 4PC Complete Front and Re...\u001b[0m\n",
      "\u001b[92m16: Guess: $140.00 Truth: $169.99 Error: $29.99 SLE: 0.04 Item: E-SDS Automatic Water Leak Shut Off Valv...\u001b[0m\n",
      "\u001b[91m17: Guess: $19.99 Truth: $949.99 Error: $930.00 SLE: 14.54 Item: Samsung Galaxy Tab S7+ Wi-Fi, Mystic Bla...\u001b[0m\n",
      "\u001b[93m18: Guess: $85.00 Truth: $11.53 Error: $73.47 SLE: 3.71 Item: ACDelco 10-9076 10W-30 Synthetic Motor O...\u001b[0m\n",
      "\u001b[91m19: Guess: $450.00 Truth: $2.86 Error: $447.14 SLE: 22.67 Item: Banjo RB038-025 Polypropylene Pipe Fitti...\u001b[0m\n",
      "\u001b[91m20: Guess: $7.00 Truth: $669.99 Error: $662.99 SLE: 19.62 Item: MAAX BATH 101594-129 Finesse 5PC WHT TUB...\u001b[0m\n",
      "\u001b[92m21: Guess: $320.00 Truth: $276.00 Error: $44.00 SLE: 0.02 Item: Performance Formula Diesel Injector Clea...\u001b[0m\n",
      "\u001b[92m22: Guess: $110.00 Truth: $114.99 Error: $4.99 SLE: 0.00 Item: Upgradelights Burlap Swag Lamp Hanging L...\u001b[0m\n",
      "\u001b[92m23: Guess: $65.00 Truth: $48.81 Error: $16.19 SLE: 0.08 Item: Eastman 1-1/2 Inch Trip Lever Bath Waste...\u001b[0m\n",
      "\u001b[91m24: Guess: $185.00 Truth: $82.92 Error: $102.08 SLE: 0.63 Item: AutoShack SCDPR65129651291172 Rear Drill...\u001b[0m\n",
      "\u001b[91m25: Guess: $6.00 Truth: $101.95 Error: $95.95 SLE: 7.23 Item: Kawasaki Steering Cable Ultra 260 X S/C ...\u001b[0m\n",
      "\u001b[91m26: Guess: $33.00 Truth: $610.46 Error: $577.46 SLE: 8.35 Item: Pro Armor RZR 900 Black Aluminum Stealth...\u001b[0m\n",
      "\u001b[91m27: Guess: $65.00 Truth: $154.41 Error: $89.41 SLE: 0.73 Item: For Honda CR-V 2002-2006 New Pair Rear C...\u001b[0m\n",
      "\u001b[92m28: Guess: $199.00 Truth: $198.44 Error: $0.56 SLE: 0.00 Item: New Driver Side Mirror for Ford F250 F35...\u001b[0m\n",
      "\u001b[91m29: Guess: $310.00 Truth: $11.98 Error: $298.02 SLE: 10.09 Item: Hehighti Sport Band Compatible with Appl...\u001b[0m\n",
      "\u001b[91m30: Guess: $180.00 Truth: $1.99 Error: $178.01 SLE: 16.84 Item: 20mm Quality Neck Lanyard / Badge Holder...\u001b[0m\n",
      "\u001b[91m31: Guess: $110.00 Truth: $202.99 Error: $92.99 SLE: 0.37 Item: HP 2019 Newest Flagship 14-inch HD SVA T...\u001b[0m\n",
      "\u001b[92m32: Guess: $85.00 Truth: $94.73 Error: $9.73 SLE: 0.01 Item: Minolta MND20 44 MP / 2.7K Ultra HD Digi...\u001b[0m\n",
      "\u001b[91m33: Guess: $65.00 Truth: $172.48 Error: $107.48 SLE: 0.93 Item: Max Advanced Brakes Premium OE (Original...\u001b[0m\n",
      "\u001b[93m34: Guess: $350.00 Truth: $267.84 Error: $82.16 SLE: 0.07 Item: A1 Cardone 51-8018 Remanufactured Hydro-...\u001b[0m\n",
      "\u001b[92m35: Guess: $260.00 Truth: $287.08 Error: $27.08 SLE: 0.01 Item: H&R 50466 Sport Spring\u001b[0m\n",
      "\u001b[91m36: Guess: $200.00 Truth: $10.98 Error: $189.02 SLE: 7.95 Item: Leather Bands Compatible with Amazfit GT...\u001b[0m\n",
      "\u001b[91m37: Guess: $95.00 Truth: $199.95 Error: $104.95 SLE: 0.55 Item: Ledlenser, iF8R Rechargeable High Power ...\u001b[0m\n",
      "\u001b[91m38: Guess: $499.00 Truth: $125.00 Error: $374.00 SLE: 1.90 Item: Progress Lighting Englewood Collection 1...\u001b[0m\n",
      "\u001b[92m39: Guess: $18.00 Truth: $40.99 Error: $22.99 SLE: 0.63 Item: 300FT 1/8\" Railing Cable with Cutter, T3...\u001b[0m\n",
      "\u001b[91m40: Guess: $299.00 Truth: $81.45 Error: $217.55 SLE: 1.67 Item: AdirOffice 12\" x 12\" Acrylic Ballot Box ...\u001b[0m\n",
      "\u001b[92m41: Guess: $88.00 Truth: $54.99 Error: $33.01 SLE: 0.21 Item: Custom Fit car Cover for Ford Mustang 20...\u001b[0m\n",
      "\u001b[91m42: Guess: $32.00 Truth: $300.79 Error: $268.79 SLE: 4.90 Item: Burly Brand 15\" Stiletto Shocks B28-1250\u001b[0m\n",
      "\u001b[91m43: Guess: $25.00 Truth: $899.95 Error: $874.95 SLE: 12.57 Item: Thule TracRac SR Overhead Rack\u001b[0m\n",
      "\u001b[91m44: Guess: $95.00 Truth: $424.70 Error: $329.70 SLE: 2.22 Item: Vance & Hines 47219 Black Shortshots Sta...\u001b[0m\n",
      "\u001b[91m45: Guess: $440.00 Truth: $300.00 Error: $140.00 SLE: 0.15 Item: Upland Optics Perception HD 10x42mm Hunt...\u001b[0m\n",
      "\u001b[91m46: Guess: $60.00 Truth: $233.00 Error: $173.00 SLE: 1.81 Item: OzCoolingParts 83-97 Ford F-Series Radia...\u001b[0m\n",
      "\u001b[91m47: Guess: $45.00 Truth: $144.36 Error: $99.36 SLE: 1.32 Item: Raymarine A80288 GPS/Glonass Antenna, A9...\u001b[0m\n",
      "\u001b[91m48: Guess: $65.00 Truth: $239.41 Error: $174.41 SLE: 1.67 Item: R4 AC Compressor w/A/C Drier & Orifice T...\u001b[0m\n",
      "\u001b[91m49: Guess: $260.00 Truth: $69.00 Error: $191.00 SLE: 1.73 Item: Godox Xpro-N TTL 2.4G Wireless Flash Tri...\u001b[0m\n",
      "\u001b[91m50: Guess: $360.00 Truth: $819.00 Error: $459.00 SLE: 0.67 Item: Dell Optiplex 9020 Tower PC Including, I...\u001b[0m\n",
      "\u001b[91m51: Guess: $55.00 Truth: $148.04 Error: $93.04 SLE: 0.96 Item: Headlights Headlamps Left & Right Pair S...\u001b[0m\n",
      "\u001b[91m52: Guess: $29.00 Truth: $799.00 Error: $770.00 SLE: 10.78 Item: Mettler Toledo Bench Scale PS series Shi...\u001b[0m\n",
      "\u001b[91m53: Guess: $65.00 Truth: $406.52 Error: $341.52 SLE: 3.31 Item: Detroit Axle - Front Axle Wheel Hub Bear...\u001b[0m\n",
      "\u001b[91m54: Guess: $250.00 Truth: $674.99 Error: $424.99 SLE: 0.98 Item: Black Ice SNO-9454-HDXW-EXT 7' 10\" x 54\"...\u001b[0m\n",
      "\u001b[91m55: Guess: $39.00 Truth: $244.85 Error: $205.85 SLE: 3.30 Item: Ames Safe-T-Deck Granulated Floor & Deck...\u001b[0m\n",
      "\u001b[92m56: Guess: $35.00 Truth: $57.99 Error: $22.99 SLE: 0.24 Item: Honeywell TH2210DV1006 PRO 2000 Heat Pum...\u001b[0m\n",
      "\u001b[93m57: Guess: $65.00 Truth: $7.99 Error: $57.01 SLE: 3.97 Item: LM YN 4.2V 1A Power Adapter Li-ion Batte...\u001b[0m\n",
      "\u001b[93m58: Guess: $75.00 Truth: $26.99 Error: $48.01 SLE: 1.00 Item: Air Vent Car Tablet Mount, AC Vent Table...\u001b[0m\n",
      "\u001b[92m59: Guess: $35.00 Truth: $7.98 Error: $27.02 SLE: 1.93 Item: Accessory USA 2A AC Home Wall Power Char...\u001b[0m\n",
      "\u001b[92m60: Guess: $125.00 Truth: $127.49 Error: $2.49 SLE: 0.00 Item: USB 3.0 Docking Station, IVIIN Universal...\u001b[0m\n",
      "\u001b[91m61: Guess: $180.00 Truth: $404.91 Error: $224.91 SLE: 0.65 Item: Powertrax GT108028 28 Spline (Grip Pro, ...\u001b[0m\n",
      "\u001b[92m62: Guess: $110.00 Truth: $129.99 Error: $19.99 SLE: 0.03 Item: iPower 6 Inch 442 CFM Inline Fan with 6\"...\u001b[0m\n",
      "\u001b[91m63: Guess: $90.00 Truth: $189.00 Error: $99.00 SLE: 0.54 Item: Lexicon Quartz Composite Oval Vanity Sin...\u001b[0m\n",
      "\u001b[93m64: Guess: $110.00 Truth: $176.99 Error: $66.99 SLE: 0.22 Item: R1 Concepts Rear Brakes and Rotors Kit |...\u001b[0m\n",
      "\u001b[91m65: Guess: $50.00 Truth: $201.95 Error: $151.95 SLE: 1.91 Item: Power Stop K624 Rear Z23 Carbon Fiber Br...\u001b[0m\n",
      "\u001b[91m66: Guess: $350.00 Truth: $40.00 Error: $310.00 SLE: 4.61 Item: Westbrass Corrugated Supply Kit with Rou...\u001b[0m\n",
      "\u001b[93m67: Guess: $89.00 Truth: $142.50 Error: $53.50 SLE: 0.22 Item: Dacasso Classic Leather Mat Desk pad, 24...\u001b[0m\n",
      "\u001b[91m68: Guess: $155.00 Truth: $304.99 Error: $149.99 SLE: 0.45 Item: Garmin Varia eRTL615 eBike Rearview Batt...\u001b[0m\n",
      "\u001b[91m69: Guess: $350.00 Truth: $172.00 Error: $178.00 SLE: 0.50 Item: Sunex Tools (SX4348) 1/2\" Super Duty Imp...\u001b[0m\n",
      "\u001b[91m70: Guess: $200.00 Truth: $106.09 Error: $93.91 SLE: 0.40 Item: Raybestos 713019 Professional Grade Whee...\u001b[0m\n",
      "\u001b[92m71: Guess: $29.99 Truth: $61.99 Error: $32.00 SLE: 0.50 Item: Enerco 60105 Mr. Heater Heatstar 45/75 U...\u001b[0m\n",
      "\u001b[91m72: Guess: $160.00 Truth: $73.31 Error: $86.69 SLE: 0.60 Item: Moroso 25971 Stainless Steel Dipstick wi...\u001b[0m\n",
      "\u001b[93m73: Guess: $40.00 Truth: $102.01 Error: $62.01 SLE: 0.85 Item: Front - New Front Passenger Side Complet...\u001b[0m\n",
      "\u001b[91m74: Guess: $60.00 Truth: $498.99 Error: $438.99 SLE: 4.43 Item: Apple MacBook Air MF068LL/A - 13.3in Lap...\u001b[0m\n",
      "\u001b[92m75: Guess: $80.00 Truth: $89.99 Error: $9.99 SLE: 0.01 Item: Motorola MA1 Wireless Android Auto Car A...\u001b[0m\n",
      "\u001b[92m76: Guess: $45.00 Truth: $76.95 Error: $31.95 SLE: 0.28 Item: Cosmas 15 Pack 1749-96FB Flat Black Bird...\u001b[0m\n",
      "\u001b[92m77: Guess: $60.00 Truth: $99.00 Error: $39.00 SLE: 0.24 Item: Aquarium 4-Stage Countertop Reverse Osmo...\u001b[0m\n",
      "\u001b[91m78: Guess: $80.00 Truth: $299.95 Error: $219.95 SLE: 1.72 Item: Alpinestars Men's Motorbike Motorcycle B...\u001b[0m\n",
      "\u001b[91m79: Guess: $110.00 Truth: $232.38 Error: $122.38 SLE: 0.55 Item: Behr Hella Service 376745761 Premium Rad...\u001b[0m\n",
      "\u001b[91m80: Guess: $160.00 Truth: $25.95 Error: $134.05 SLE: 3.19 Item: RecPro RV Side Wall Sconce Light | Satin...\u001b[0m\n",
      "\u001b[93m81: Guess: $300.00 Truth: $435.68 Error: $135.68 SLE: 0.14 Item: Garage-Pro Step Bumper Compatible with 2...\u001b[0m\n",
      "\u001b[91m82: Guess: $120.00 Truth: $228.99 Error: $108.99 SLE: 0.41 Item: AUTOSAVER88 Towing Mirror Compatible wit...\u001b[0m\n",
      "\u001b[93m83: Guess: $100.00 Truth: $166.30 Error: $66.30 SLE: 0.25 Item: HP EliteDesk 800 G1-T, Intel Core i5-457...\u001b[0m\n",
      "\u001b[91m84: Guess: $300.00 Truth: $109.00 Error: $191.00 SLE: 1.01 Item: LED Solar Post Lights Pillar Lights Outd...\u001b[0m\n",
      "\u001b[92m85: Guess: $110.00 Truth: $132.91 Error: $22.91 SLE: 0.04 Item: Altronix Power Supply 8 Fuse 24Vac @ 4A ...\u001b[0m\n",
      "\u001b[91m86: Guess: $6.00 Truth: $292.30 Error: $286.30 SLE: 13.95 Item: Hudson Valley Lighting Blossom 1 Light W...\u001b[0m\n",
      "\u001b[91m87: Guess: $19.99 Truth: $259.00 Error: $239.01 SLE: 6.33 Item: MICRO-AIR EasyTouch RV Thermostat, Wirel...\u001b[0m\n",
      "\u001b[91m88: Guess: $110.00 Truth: $22.00 Error: $88.00 SLE: 2.48 Item: Intel E41997-002 Socket 1156 Aluminum He...\u001b[0m\n",
      "\u001b[93m89: Guess: $35.00 Truth: $104.31 Error: $69.31 SLE: 1.15 Item: Bendix Fleet Metlok SDR5339 Rear Severe ...\u001b[0m\n",
      "\u001b[93m90: Guess: $220.00 Truth: $142.00 Error: $78.00 SLE: 0.19 Item: HELLA 008283801 FF50 Series Clear 12V/55...\u001b[0m\n",
      "\u001b[93m91: Guess: $199.00 Truth: $271.11 Error: $72.11 SLE: 0.09 Item: KLH Albany II 2-Way Bookshelf Speakers f...\u001b[0m\n",
      "\u001b[91m92: Guess: $160.00 Truth: $498.43 Error: $338.43 SLE: 1.28 Item: TS525TU Chief Thinstall Wall Mount for F...\u001b[0m\n",
      "\u001b[91m93: Guess: $99.00 Truth: $449.99 Error: $350.99 SLE: 2.27 Item: FLEXIMOUNTS Electric Height Adjustable W...\u001b[0m\n",
      "\u001b[93m94: Guess: $60.00 Truth: $5.99 Error: $54.01 SLE: 4.69 Item: Jmltech Designed for iPhone 14 Plus Case...\u001b[0m\n",
      "\u001b[91m95: Guess: $399.00 Truth: $25.99 Error: $373.01 SLE: 7.27 Item: Upgraded Steam Deck Dock, Younik Steam D...\u001b[0m\n",
      "\u001b[93m96: Guess: $89.00 Truth: $156.02 Error: $67.02 SLE: 0.31 Item: Kingston Brass Nuvo Elements of Design E...\u001b[0m\n",
      "\u001b[92m97: Guess: $35.00 Truth: $61.43 Error: $26.43 SLE: 0.30 Item: Centric Parts 130.45509 Brake Master Cyl...\u001b[0m\n",
      "\u001b[93m98: Guess: $55.00 Truth: $132.00 Error: $77.00 SLE: 0.75 Item: DEWALT 20V MAX XR Battery, 5 Ah, 2-Pack ...\u001b[0m\n",
      "\u001b[91m99: Guess: $120.00 Truth: $330.87 Error: $210.87 SLE: 1.02 Item: OTC (6885 Crankshaft Rear Seal and Wear ...\u001b[0m\n",
      "\u001b[91m100: Guess: $100.00 Truth: $403.99 Error: $303.99 SLE: 1.93 Item: Power Stop K6414 Front Z23 Carbon Fiber ...\u001b[0m\n",
      "\u001b[91m101: Guess: $110.00 Truth: $361.99 Error: $251.99 SLE: 1.40 Item: Double DIN DVD CD AM/FM Bluetooth Stereo...\u001b[0m\n",
      "\u001b[91m102: Guess: $50.00 Truth: $279.27 Error: $229.27 SLE: 2.90 Item: Universal Air Conditioner KT 1691 A/C Co...\u001b[0m\n",
      "\u001b[91m103: Guess: $15.00 Truth: $519.35 Error: $504.35 SLE: 12.12 Item: American Standard 4803900.075 Studio S W...\u001b[0m\n",
      "\u001b[91m104: Guess: $88.00 Truth: $373.00 Error: $285.00 SLE: 2.06 Item: APS iBoard Third Generation Polished Fla...\u001b[0m\n",
      "\u001b[91m105: Guess: $70.00 Truth: $358.87 Error: $288.87 SLE: 2.63 Item: MWS 1000sqft R8 Reflective Insulation Ga...\u001b[0m\n",
      "\u001b[93m106: Guess: $30.00 Truth: $92.86 Error: $62.86 SLE: 1.23 Item: 2PCS Treat Yourself Neon Sign for Wall D...\u001b[0m\n",
      "\u001b[92m107: Guess: $39.00 Truth: $2.99 Error: $36.01 SLE: 5.31 Item: Pantry Vinyl Wall Decal Door Decals Wall...\u001b[0m\n",
      "\u001b[93m108: Guess: $200.00 Truth: $127.25 Error: $72.75 SLE: 0.20 Item: Nokya Hi-power PSX24W 2504 LED Fog Light...\u001b[0m\n",
      "\u001b[91m109: Guess: $400.00 Truth: $91.00 Error: $309.00 SLE: 2.17 Item: American Standard 1660739.278 3-Function...\u001b[0m\n",
      "\u001b[93m110: Guess: $50.00 Truth: $114.95 Error: $64.95 SLE: 0.67 Item: MPC Complete Plug-n-Play Factory Fob Act...\u001b[0m\n",
      "\u001b[91m111: Guess: $299.00 Truth: $116.33 Error: $182.67 SLE: 0.88 Item: iSpring F15-100 2-Year Replacement Suppl...\u001b[0m\n",
      "\u001b[93m112: Guess: $99.00 Truth: $49.20 Error: $49.80 SLE: 0.47 Item: Rite Lite LPL1074WRCAC High Output LED T...\u001b[0m\n",
      "\u001b[91m113: Guess: $299.00 Truth: $125.99 Error: $173.01 SLE: 0.74 Item: Trunk Spoiler Compatible With 2013-2016 ...\u001b[0m\n",
      "\u001b[92m114: Guess: $100.00 Truth: $122.60 Error: $22.60 SLE: 0.04 Item: New Alternator for Toyota Camry Highland...\u001b[0m\n",
      "\u001b[91m115: Guess: $100.00 Truth: $399.99 Error: $299.99 SLE: 1.90 Item: S.M.S.L SD-9 MQA Full Decoding Bluetooth...\u001b[0m\n",
      "\u001b[91m116: Guess: $70.00 Truth: $165.99 Error: $95.99 SLE: 0.73 Item: Turntables Belt-Drive Record Player with...\u001b[0m\n",
      "\u001b[92m117: Guess: $60.00 Truth: $62.22 Error: $2.22 SLE: 0.00 Item: Small Toothpick\u001b[0m\n",
      "\u001b[91m118: Guess: $30.00 Truth: $290.27 Error: $260.27 SLE: 5.02 Item: MAXLINER Floor Mats 3 Rows - Cargo Liner...\u001b[0m\n",
      "\u001b[91m119: Guess: $60.00 Truth: $388.46 Error: $328.46 SLE: 3.44 Item: Brother HL2230 Monochrome Laser Printer ...\u001b[0m\n",
      "\u001b[91m120: Guess: $50.00 Truth: $429.99 Error: $379.99 SLE: 4.56 Item: Amcrest 4K NV4208E-AI 8-Channel AI NVR (...\u001b[0m\n",
      "\u001b[91m121: Guess: $60.00 Truth: $189.99 Error: $129.99 SLE: 1.30 Item: KABCO 23 Inch 18 Gauge Stainless Steel U...\u001b[0m\n",
      "\u001b[93m122: Guess: $70.00 Truth: $144.03 Error: $74.03 SLE: 0.51 Item: New DB Electrical AVA0066 Alternator Com...\u001b[0m\n",
      "\u001b[92m123: Guess: $70.00 Truth: $54.95 Error: $15.05 SLE: 0.06 Item: B+W 49mm Master Clear MRC Nano 007M Glas...\u001b[0m\n",
      "\u001b[91m124: Guess: $50.00 Truth: $268.10 Error: $218.10 SLE: 2.77 Item: Dynabrade (56850) Dynorbital Supreme 5\" ...\u001b[0m\n",
      "\u001b[91m125: Guess: $99.00 Truth: $279.98 Error: $180.98 SLE: 1.07 Item: Dell OptiPlex 7050 Small Desktop Compute...\u001b[0m\n",
      "\u001b[91m126: Guess: $80.00 Truth: $239.99 Error: $159.99 SLE: 1.19 Item: Craftsman C3 19.2 Volt 18 Gauge Brad Nai...\u001b[0m\n",
      "\u001b[93m127: Guess: $120.00 Truth: $184.99 Error: $64.99 SLE: 0.18 Item: Nikon 18-55mm f/3.5-5.6G VR AF-P DX Zoom...\u001b[0m\n",
      "\u001b[93m128: Guess: $300.00 Truth: $239.99 Error: $60.01 SLE: 0.05 Item: Richmond Gear F88410 Ford 8.8\"\"410 Rng &...\u001b[0m\n",
      "\u001b[93m129: Guess: $45.00 Truth: $113.99 Error: $68.99 SLE: 0.84 Item: 3 Layer All Weather Truck Cover Compatib...\u001b[0m\n",
      "\u001b[91m130: Guess: $66.00 Truth: $396.64 Error: $330.64 SLE: 3.17 Item: PowerSport Front Rear Brakes and Rotors ...\u001b[0m\n",
      "\u001b[93m131: Guess: $60.00 Truth: $6.99 Error: $53.01 SLE: 4.13 Item: MightySkins Protective Vinyl Skin Decal ...\u001b[0m\n",
      "\u001b[91m132: Guess: $100.00 Truth: $210.56 Error: $110.56 SLE: 0.55 Item: KYB SR4140 Strut Plus Complete Corner Un...\u001b[0m\n",
      "\u001b[93m133: Guess: $99.00 Truth: $161.00 Error: $62.00 SLE: 0.23 Item: Great Day Quick Draw Overhead Gun Rack (...\u001b[0m\n",
      "\u001b[91m134: Guess: $60.00 Truth: $189.00 Error: $129.00 SLE: 1.29 Item: Lamp Shades - Blue Tones Flowers and Lea...\u001b[0m\n",
      "\u001b[91m135: Guess: $300.00 Truth: $11.47 Error: $288.53 SLE: 10.14 Item: EATON Wiring 9505TRWS ASPIRE Tamper Resi...\u001b[0m\n",
      "\u001b[93m136: Guess: $300.00 Truth: $249.23 Error: $50.77 SLE: 0.03 Item: APS iBoard 6-inch Aluminum (Polished Fla...\u001b[0m\n",
      "\u001b[91m137: Guess: $300.00 Truth: $210.99 Error: $89.01 SLE: 0.12 Item: Free Standing Utility Sink Kitchen Sink ...\u001b[0m\n",
      "\u001b[91m138: Guess: $310.00 Truth: $37.43 Error: $272.57 SLE: 4.37 Item: Gates 364150 Power Steering Pressure Lin...\u001b[0m\n",
      "\u001b[91m139: Guess: $40.00 Truth: $679.44 Error: $639.44 SLE: 7.89 Item: Progressive Suspension 944-4020UT Ultra ...\u001b[0m\n",
      "\u001b[92m140: Guess: $60.00 Truth: $24.99 Error: $35.01 SLE: 0.73 Item: fotoconic Motorized Rotating Display Sta...\u001b[0m\n",
      "\u001b[92m141: Guess: $70.00 Truth: $35.73 Error: $34.27 SLE: 0.43 Item: Eiseng DIY Steering Wheel Cover for 2010...\u001b[0m\n",
      "\u001b[92m142: Guess: $60.00 Truth: $48.46 Error: $11.54 SLE: 0.04 Item: Bike Shop Cycling Tailgate Cover Pad Pic...\u001b[0m\n",
      "\u001b[91m143: Guess: $70.00 Truth: $339.56 Error: $269.56 SLE: 2.46 Item: Barnes 112900 Model SP33LT Preassembled ...\u001b[0m\n",
      "\u001b[92m144: Guess: $70.00 Truth: $32.45 Error: $37.55 SLE: 0.57 Item: Camelliaa Shop Bigfoot Kills You Retro S...\u001b[0m\n",
      "\u001b[93m145: Guess: $99.00 Truth: $33.97 Error: $65.03 SLE: 1.10 Item: Kwikset 97802-070 780 Deadbolt One Side,...\u001b[0m\n",
      "\u001b[91m146: Guess: $80.00 Truth: $599.00 Error: $519.00 SLE: 4.01 Item: TTArtisan 90mm F1.25 ASPH Full Fame Favo...\u001b[0m\n",
      "\u001b[93m147: Guess: $40.00 Truth: $99.99 Error: $59.99 SLE: 0.81 Item: WD 2TB Elements SE - Portable SSD, USB 3...\u001b[0m\n",
      "\u001b[91m148: Guess: $40.00 Truth: $575.95 Error: $535.95 SLE: 6.99 Item: Turbosmart TS-0301-1003 e-Boost2 Black/B...\u001b[0m\n",
      "\u001b[91m149: Guess: $50.00 Truth: $169.00 Error: $119.00 SLE: 1.45 Item: WoodyWalls Reclaimed Wood Planks for Wal...\u001b[0m\n",
      "\u001b[91m150: Guess: $60.00 Truth: $659.99 Error: $599.99 SLE: 5.68 Item: SanDisk Professional 12TB G-RAID 2 - Ent...\u001b[0m\n",
      "\u001b[93m151: Guess: $70.00 Truth: $140.99 Error: $70.99 SLE: 0.48 Item: ATP SMS-9 Automatic Transmission Master ...\u001b[0m\n",
      "\u001b[91m152: Guess: $70.00 Truth: $168.90 Error: $98.90 SLE: 0.76 Item: M&T Displays Enclosed Lockable Magnetic ...\u001b[0m\n",
      "\u001b[92m153: Guess: $110.00 Truth: $81.05 Error: $28.95 SLE: 0.09 Item: CANARM LTD. IPL133BPT Canarm LTD IPL133B...\u001b[0m\n",
      "\u001b[91m154: Guess: $100.00 Truth: $819.00 Error: $719.00 SLE: 4.39 Item: HP 2021 Pavilion 17.3\" FHD Laptop Comput...\u001b[0m\n",
      "\u001b[91m155: Guess: $350.00 Truth: $205.78 Error: $144.22 SLE: 0.28 Item: Bosch Automotive AL7598N 100% New Altern...\u001b[0m\n",
      "\u001b[91m156: Guess: $360.00 Truth: $715.98 Error: $355.98 SLE: 0.47 Item: Power Stop K6756 Front and Rear Z23 Carb...\u001b[0m\n",
      "\u001b[92m157: Guess: $200.00 Truth: $175.99 Error: $24.01 SLE: 0.02 Item: NEW PRIMARY DRIVE CLUTCH Complete For 20...\u001b[0m\n",
      "\u001b[92m158: Guess: $350.00 Truth: $338.99 Error: $11.01 SLE: 0.00 Item: Auto Rim Shop - New Reconditioned 19\" OE...\u001b[0m\n",
      "\u001b[91m159: Guess: $200.00 Truth: $62.99 Error: $137.01 SLE: 1.31 Item: APS F65723S Polished Grille Bolt Over fo...\u001b[0m\n",
      "\u001b[91m160: Guess: $120.00 Truth: $204.97 Error: $84.97 SLE: 0.28 Item: Honeywell Home RTH9585WF Wi-Fi Smart Col...\u001b[0m\n",
      "\u001b[91m161: Guess: $80.00 Truth: $176.95 Error: $96.95 SLE: 0.62 Item: PROSTAFF P7 8x30 Binoculars Black with L...\u001b[0m\n",
      "\u001b[93m162: Guess: $100.00 Truth: $54.99 Error: $45.01 SLE: 0.35 Item: Keystone 21W 4 foot 6500K 360° T8 LED Si...\u001b[0m\n",
      "\u001b[92m163: Guess: $199.00 Truth: $164.89 Error: $34.11 SLE: 0.03 Item: HP 89A Black Toner Cartridge | Works wit...\u001b[0m\n",
      "\u001b[91m164: Guess: $40.00 Truth: $155.00 Error: $115.00 SLE: 1.79 Item: Saeuwtowy Brushed Gold Rain Shower Syste...\u001b[0m\n",
      "\u001b[92m165: Guess: $10.00 Truth: $43.89 Error: $33.89 SLE: 1.98 Item: FenchelShades.com Lampshade 6\" Top Diame...\u001b[0m\n",
      "\u001b[92m166: Guess: $80.00 Truth: $83.99 Error: $3.99 SLE: 0.00 Item: Senmit 36\"x 3/4 Aluminum Deck Balusters ...\u001b[0m\n",
      "\u001b[91m167: Guess: $99.00 Truth: $17.50 Error: $81.50 SLE: 2.85 Item: Led Clip Makeup Lamp, Reading Light, Des...\u001b[0m\n",
      "\u001b[93m168: Guess: $30.00 Truth: $85.86 Error: $55.86 SLE: 1.06 Item: Alphacool Eisblock XPX Aurora Edge CPU W...\u001b[0m\n",
      "\u001b[92m169: Guess: $300.00 Truth: $273.00 Error: $27.00 SLE: 0.01 Item: RAM MOUNTS (RAP-299-3-C-234-6U Ram-A-Can...\u001b[0m\n",
      "\u001b[91m170: Guess: $350.00 Truth: $62.99 Error: $287.01 SLE: 2.90 Item: Brilliant Smart Dimmer Switch (Black) — ...\u001b[0m\n",
      "\u001b[91m171: Guess: $200.00 Truth: $118.75 Error: $81.25 SLE: 0.27 Item: SAFAVIEH Lighting Collection Carolanne M...\u001b[0m\n",
      "\u001b[91m172: Guess: $199.00 Truth: $23.10 Error: $175.90 SLE: 4.48 Item: NuMax SBR50 Pneumatic 18-Gauge 2\" Brad N...\u001b[0m\n",
      "\u001b[91m173: Guess: $99.00 Truth: $249.00 Error: $150.00 SLE: 0.84 Item: 12-Pack Solar HAMMERED BROWN Finish Post...\u001b[0m\n",
      "\u001b[91m174: Guess: $20.00 Truth: $188.83 Error: $168.83 SLE: 4.85 Item: 10 Piece Kit Drag Links, Tie Rod Ends, F...\u001b[0m\n",
      "\u001b[91m175: Guess: $40.00 Truth: $280.49 Error: $240.49 SLE: 3.71 Item: Dynamic Power Steering 42702 NEW Power S...\u001b[0m\n",
      "\u001b[92m176: Guess: $85.00 Truth: $112.58 Error: $27.58 SLE: 0.08 Item: Rear Wheel Hub Febest 0382-REMR\u001b[0m\n",
      "\u001b[91m177: Guess: $450.00 Truth: $188.99 Error: $261.01 SLE: 0.75 Item: Panasonic DVD-CV52 5-Disc DVD Player\u001b[0m\n",
      "\u001b[92m178: Guess: $120.00 Truth: $85.94 Error: $34.06 SLE: 0.11 Item: Crown 241PM 3/8-InchPM Bowl Gouge\u001b[0m\n",
      "\u001b[92m179: Guess: $60.00 Truth: $29.29 Error: $30.71 SLE: 0.49 Item: Plantronics BackBeat GO 600 Noise-Isolat...\u001b[0m\n",
      "\u001b[91m180: Guess: $29.00 Truth: $255.02 Error: $226.02 SLE: 4.60 Item: Max Advanced Brakes Elite XDS Front + Re...\u001b[0m\n",
      "\u001b[93m181: Guess: $35.00 Truth: $107.87 Error: $72.87 SLE: 1.22 Item: Kingston Brass CC7L8 Vintage Basin Tap F...\u001b[0m\n",
      "\u001b[93m182: Guess: $200.00 Truth: $269.96 Error: $69.96 SLE: 0.09 Item: ICON 0-1.5\" Lift, Rear, 2.0 VS Remote Re...\u001b[0m\n",
      "\u001b[92m183: Guess: $300.00 Truth: $269.99 Error: $30.01 SLE: 0.01 Item: ANNKE 8 Channel Wired CCTV Security Came...\u001b[0m\n",
      "\u001b[91m184: Guess: $30.00 Truth: $543.09 Error: $513.09 SLE: 8.21 Item: WARN 90135 Gen II Trans4mer Winch Mount ...\u001b[0m\n",
      "\u001b[92m185: Guess: $40.00 Truth: $78.83 Error: $38.83 SLE: 0.44 Item: Rareelectrical NEW TOP END GASKET KIT CO...\u001b[0m\n",
      "\u001b[92m186: Guess: $100.00 Truth: $80.99 Error: $19.01 SLE: 0.04 Item: Narex, 3 Piece Set Round Rattail, Half R...\u001b[0m\n",
      "\u001b[92m187: Guess: $40.00 Truth: $6.48 Error: $33.52 SLE: 2.89 Item: Trenro 2pcs 30 Pin USB Sync Charging Cab...\u001b[0m\n",
      "\u001b[92m188: Guess: $19.00 Truth: $8.95 Error: $10.05 SLE: 0.49 Item: iLLumiShield Glass Screen Protector Comp...\u001b[0m\n",
      "\u001b[91m189: Guess: $40.00 Truth: $231.37 Error: $191.37 SLE: 3.01 Item: DEE ZEE DZ370513 3\" Round Stainless Stee...\u001b[0m\n",
      "\u001b[93m190: Guess: $40.00 Truth: $113.99 Error: $73.99 SLE: 1.06 Item: DNJ HGB42421 Cylinder Head Set with Head...\u001b[0m\n",
      "\u001b[92m191: Guess: $110.00 Truth: $85.14 Error: $24.86 SLE: 0.06 Item: Filterbuy 20x25x5 Air Filter MERV 8 Odor...\u001b[0m\n",
      "\u001b[91m192: Guess: $399.00 Truth: $181.55 Error: $217.45 SLE: 0.62 Item: Bodeman - (4) Front and Rear Driver Pass...\u001b[0m\n",
      "\u001b[91m193: Guess: $166.00 Truth: $319.90 Error: $153.90 SLE: 0.43 Item: Alpine (2) S-W12D2 12\" 3600 Watt Dual 2-...\u001b[0m\n",
      "\u001b[91m194: Guess: $99.00 Truth: $967.82 Error: $868.82 SLE: 5.16 Item: Power Stop KC1454-36 Front & Rear Z36 Tr...\u001b[0m\n",
      "\u001b[92m195: Guess: $220.00 Truth: $250.99 Error: $30.99 SLE: 0.02 Item: Epson WorkForce Pro WF-3720 Wireless All...\u001b[0m\n",
      "\u001b[91m196: Guess: $50.00 Truth: $515.95 Error: $465.95 SLE: 5.36 Item: Hurst 3162001 Pistol Grip Quarter Stick ...\u001b[0m\n",
      "\u001b[91m197: Guess: $40.00 Truth: $336.75 Error: $296.75 SLE: 4.45 Item: HP Elite 6300 Small Form Computer Deskto...\u001b[0m\n",
      "\u001b[93m198: Guess: $110.00 Truth: $175.21 Error: $65.21 SLE: 0.21 Item: MOOG 515097 Wheel Bearing and Hub Assemb...\u001b[0m\n",
      "\u001b[91m199: Guess: $120.00 Truth: $216.98 Error: $96.98 SLE: 0.35 Item: ACDelco Professional 45D10186 Front Pass...\u001b[0m\n",
      "\u001b[91m200: Guess: $100.00 Truth: $489.99 Error: $389.99 SLE: 2.50 Item: 24V DC/AC Automatic Gate Openers with Co...\u001b[0m\n",
      "\u001b[92m201: Guess: $25.00 Truth: $60.99 Error: $35.99 SLE: 0.75 Item: Compact Wall Mount – CTA Security Wall M...\u001b[0m\n",
      "\u001b[91m202: Guess: $20.00 Truth: $285.99 Error: $265.99 SLE: 6.84 Item: Power Stop KOE2808 Autospecialty Front a...\u001b[0m\n",
      "\u001b[92m203: Guess: $500.00 Truth: $495.00 Error: $5.00 SLE: 0.00 Item: Mustang Tripper Fastback Seat 76588\u001b[0m\n",
      "\u001b[91m204: Guess: $400.00 Truth: $238.70 Error: $161.30 SLE: 0.26 Item: Spectra Premium SP2102M Fuel Module\u001b[0m\n",
      "\u001b[91m205: Guess: $20.00 Truth: $305.99 Error: $285.99 SLE: 7.19 Item: Vortex New Green Pontoon/Deck Boat 4 Bow...\u001b[0m\n",
      "\u001b[91m206: Guess: $200.00 Truth: $526.00 Error: $326.00 SLE: 0.93 Item: RAB BAYLED78NW - 78 Watt - LED High Bay ...\u001b[0m\n",
      "\u001b[92m207: Guess: $300.00 Truth: $296.26 Error: $3.74 SLE: 0.00 Item: Schlage S51PD SAT 626 16-203 10-001 KD C...\u001b[0m\n",
      "\u001b[91m208: Guess: $100.00 Truth: $219.32 Error: $119.32 SLE: 0.61 Item: DNA Motoring RA-F150-85V8-3 3-Row Full A...\u001b[0m\n",
      "\u001b[92m209: Guess: $150.00 Truth: $161.95 Error: $11.95 SLE: 0.01 Item: Arlen Ness 18-507 Chrome Big Sucker Perf...\u001b[0m\n",
      "\u001b[91m210: Guess: $250.00 Truth: $103.38 Error: $146.62 SLE: 0.77 Item: Schlage F51A MNH 605 Manhattan Lever Key...\u001b[0m\n",
      "\u001b[91m211: Guess: $50.00 Truth: $434.99 Error: $384.99 SLE: 4.60 Item: DEE ZEE 8556B Red Label Utility Chest\u001b[0m\n",
      "\u001b[93m212: Guess: $30.00 Truth: $80.99 Error: $50.99 SLE: 0.95 Item: Laser Tek Services Compatible Toner Cart...\u001b[0m\n",
      "\u001b[93m213: Guess: $60.00 Truth: $125.99 Error: $65.99 SLE: 0.54 Item: TeraFlex 4350310 30\" Rear Brake Line Kit...\u001b[0m\n",
      "\u001b[91m214: Guess: $150.00 Truth: $275.00 Error: $125.00 SLE: 0.36 Item: HT Tiffany Style Decor Table Lamp 14 Inc...\u001b[0m\n",
      "\u001b[91m215: Guess: $400.00 Truth: $175.76 Error: $224.24 SLE: 0.67 Item: AmeriLite Black Dual LED Halo Rings Proj...\u001b[0m\n",
      "\u001b[92m216: Guess: $60.00 Truth: $89.00 Error: $29.00 SLE: 0.15 Item: FLOWS Polarized Bluetooth Sunglasses - Q...\u001b[0m\n",
      "\u001b[92m217: Guess: $60.00 Truth: $40.99 Error: $19.01 SLE: 0.14 Item: LBXR20 20V 3.0Ah Replacement for Black a...\u001b[0m\n",
      "\u001b[93m218: Guess: $200.00 Truth: $139.00 Error: $61.00 SLE: 0.13 Item: DTA DT1410141161-2 New Front CV Axles Co...\u001b[0m\n",
      "\u001b[93m219: Guess: $250.00 Truth: $196.49 Error: $53.51 SLE: 0.06 Item: CarPartsDepot 4-Door Front Bumper Cover ...\u001b[0m\n",
      "\u001b[91m220: Guess: $200.00 Truth: $62.43 Error: $137.57 SLE: 1.33 Item: DEWALT Diamond Blade for Tile, Wet Cutti...\u001b[0m\n",
      "\u001b[91m221: Guess: $220.00 Truth: $113.01 Error: $106.99 SLE: 0.44 Item: For 2008-2020 Kia Soul 16 Inch Black Pai...\u001b[0m\n",
      "\u001b[91m222: Guess: $99.00 Truth: $239.00 Error: $140.00 SLE: 0.77 Item: LILLIPUT FS7 7\" Full HD Camera Monitor w...\u001b[0m\n",
      "\u001b[91m223: Guess: $200.00 Truth: $447.98 Error: $247.98 SLE: 0.65 Item: Sony M-570V Microcassette Voice Recorder\u001b[0m\n",
      "\u001b[91m224: Guess: $250.00 Truth: $740.00 Error: $490.00 SLE: 1.17 Item: ASUS ExpertCenter D500SC Small Form Fact...\u001b[0m\n",
      "\u001b[91m225: Guess: $10.00 Truth: $143.38 Error: $133.38 SLE: 6.63 Item: FitParts Compatible with Front Bumper Co...\u001b[0m\n",
      "\u001b[93m226: Guess: $80.00 Truth: $143.99 Error: $63.99 SLE: 0.34 Item: WERFACTORY Tiffany Lamp Stained Glass Ta...\u001b[0m\n",
      "\u001b[91m227: Guess: $60.00 Truth: $229.00 Error: $169.00 SLE: 1.76 Item: XOLORspace QV401K KVM 4K 60HZ HDMI 4x1 Q...\u001b[0m\n",
      "\u001b[92m228: Guess: $200.00 Truth: $185.00 Error: $15.00 SLE: 0.01 Item: Richmond Auto Upholstery (Compatible 200...\u001b[0m\n",
      "\u001b[91m229: Guess: $50.00 Truth: $239.50 Error: $189.50 SLE: 2.41 Item: 17-in Concrete Shallow Round Vessel Sink...\u001b[0m\n",
      "\u001b[93m230: Guess: $200.00 Truth: $124.11 Error: $75.89 SLE: 0.22 Item: JayCee Leak Proof Pushrod Tubes, Set, Bl...\u001b[0m\n",
      "\u001b[91m231: Guess: $180.00 Truth: $81.98 Error: $98.02 SLE: 0.61 Item: Evan-Fischer Fuel Pump Module Assembly c...\u001b[0m\n",
      "\u001b[91m232: Guess: $100.00 Truth: $10.99 Error: $89.01 SLE: 4.54 Item: RXBC2011 100 Blank Postcards for mailing...\u001b[0m\n",
      "\u001b[93m233: Guess: $50.00 Truth: $115.04 Error: $65.04 SLE: 0.68 Item: LARIN LJJS-2 Floor Jack with Jack Stand ...\u001b[0m\n",
      "\u001b[92m234: Guess: $150.00 Truth: $115.16 Error: $34.84 SLE: 0.07 Item: Atlantic Modular Mobile Storage Cart Sys...\u001b[0m\n",
      "\u001b[91m235: Guess: $100.00 Truth: $12.99 Error: $87.01 SLE: 3.91 Item: Hoya 55mm G Series PL-CIR Screw in Filte...\u001b[0m\n",
      "\u001b[91m236: Guess: $100.00 Truth: $549.46 Error: $449.46 SLE: 2.88 Item: TireChain.com 295/75R22.5, 295 75R22.5 D...\u001b[0m\n",
      "\u001b[91m237: Guess: $20.00 Truth: $119.59 Error: $99.59 SLE: 3.06 Item: Kinglong Matte Black Pendant Light Fixtu...\u001b[0m\n",
      "\u001b[93m238: Guess: $80.00 Truth: $138.00 Error: $58.00 SLE: 0.29 Item: Miyili Vessel Sink Rectangle Matte Black...\u001b[0m\n",
      "\u001b[91m239: Guess: $250.00 Truth: $150.73 Error: $99.27 SLE: 0.25 Item: 2007-2013 Honda TRX420 Rancher ATV Genui...\u001b[0m\n",
      "\u001b[91m240: Guess: $30.00 Truth: $683.56 Error: $653.56 SLE: 9.58 Item: 300' Jameson Easy Buddy 1/4\" OD Fibergla...\u001b[0m\n",
      "\u001b[93m241: Guess: $80.00 Truth: $21.39 Error: $58.61 SLE: 1.65 Item: PureT (HQCBC-20-10) 20\"x2.75\" Coconut Ca...\u001b[0m\n",
      "\u001b[93m242: Guess: $80.00 Truth: $15.99 Error: $64.01 SLE: 2.44 Item: Cute Kawaii Heart of the peach Shape Gel...\u001b[0m\n",
      "\u001b[91m243: Guess: $280.00 Truth: $102.55 Error: $177.45 SLE: 1.00 Item: Sea Gull Lighting 41162-05 Oslo Wall/Bat...\u001b[0m\n",
      "\u001b[91m244: Guess: $100.00 Truth: $219.99 Error: $119.99 SLE: 0.61 Item: RIGID HITCH INCORPORATED Pair of 5-Bolt ...\u001b[0m\n",
      "\u001b[92m245: Guess: $30.00 Truth: $65.49 Error: $35.49 SLE: 0.58 Item: ORE International 6117GN 27-Inch 60-Watt...\u001b[0m\n",
      "\u001b[91m246: Guess: $100.00 Truth: $786.05 Error: $686.05 SLE: 4.22 Item: Brother Mfcl6900dw Business Laser All-in...\u001b[0m\n",
      "\u001b[92m247: Guess: $199.00 Truth: $164.99 Error: $34.01 SLE: 0.03 Item: AKKON - Fits Ford F150 F-150 Pickup Smok...\u001b[0m\n",
      "\u001b[91m248: Guess: $40.00 Truth: $249.00 Error: $209.00 SLE: 3.27 Item: Uniden DFR6 Super Long Range Radar/Laser...\u001b[0m\n",
      "\u001b[93m249: Guess: $100.00 Truth: $163.19 Error: $63.19 SLE: 0.24 Item: Dawn Enterprises FE7-RAV4-13 Custom Body...\u001b[0m\n",
      "\u001b[92m250: Guess: $250.00 Truth: $235.99 Error: $14.01 SLE: 0.00 Item: LUOLAX 42'' Fandelier Crystal Ceiling Fa...\u001b[0m\n"
     ]
    },
    {
     "data": {
      "image/png": "[encoded data removed]",
      "text/plain": [
       "<Figure size 1200x800 with 1 Axes>"
      ]
     },
     "metadata": {},
     "output_type": "display_data"
    }
   ],
   "source": [
    "Tester.test(human_pricer, test)"
   ]
  },
  {
   "cell_type": "markdown",
   "id": "066fef03-8338-4526-9df3-89b649ad4f0a",
   "metadata": {},
   "source": [
    "## First, the humble but mighty GPT-4o-mini\n",
    "\n",
    "It's called mini, but it packs a punch."
   ]
  },
  {
   "cell_type": "code",
   "execution_count": 12,
   "id": "66ea68e8-ab1b-4f0d-aba4-a59574d8f85e",
   "metadata": {},
   "outputs": [],
   "source": [
    "# First let's work on a good prompt for a Frontier model\n",
    "# Notice that I'm removing the \" to the nearest dollar\"\n",
    "# When we train our own models, we'll need to make the problem as easy as possible, \n",
    "# but a Frontier model needs no such simplification.\n",
    "\n",
    "def messages_for(item):\n",
    "    system_message = \"You estimate prices of items. Reply only with the price, no explanation\"\n",
    "    user_prompt = item.test_prompt().replace(\" to the nearest dollar\",\"\").replace(\"\\n\\nPrice is $\",\"\")\n",
    "    return [\n",
    "        {\"role\": \"system\", \"content\": system_message},\n",
    "        {\"role\": \"user\", \"content\": user_prompt},\n",
    "        {\"role\": \"assistant\", \"content\": \"Price is $\"}\n",
    "    ]"
   ]
  },
  {
   "cell_type": "code",
   "execution_count": 17,
   "id": "add7bc0a-71fb-49cc-a49b-9548fd0fe949",
   "metadata": {},
   "outputs": [
    {
     "data": {
      "text/plain": [
       "[{'role': 'system',\n",
       "  'content': 'You estimate prices of items. Reply only with the price, no explanation'},\n",
       " {'role': 'user',\n",
       "  'content': 'How much does this cost?\\n\\nCONCEALED HOT AND COLD WATER SINK FAUCET WITH POP-UP WASTE\\nThe Chicago Manual and Metering Faucet. This concealed hot/cold water sink faucet features 8 fixed centers for an easy installation, and 2-3/8 lever handles. It comes with a 5 rigid cast brass spout, a 2.2 GPM aerator, and a Quaturn Compress Manufacturer Chicago Faucets, Part Weight 7.1 Pounds, model number Size.5, Finish Polished, Installation Method Centerset, Quantity 1, Of Holes 3, Handles 2, Handle Material Brass, Mounting Type Deck Mount, Included Components Aerator, Handle, Available April 24, 2013, Brand Chicago Faucets'},\n",
       " {'role': 'assistant', 'content': 'Price is $'}]"
      ]
     },
     "execution_count": 17,
     "metadata": {},
     "output_type": "execute_result"
    }
   ],
   "source": [
    "messages_for(test[11])"
   ]
  },
  {
   "cell_type": "code",
   "execution_count": null,
   "id": "4ff92d61-0d27-4b0d-8b32-c9891016509b",
   "metadata": {},
   "outputs": [],
   "source": [
    "# Try this out\n",
    "\n",
    "messages_for(test[0])"
   ]
  },
  {
   "cell_type": "code",
   "execution_count": 15,
   "id": "b1af1888-f94a-4106-b0d8-8a70939eec4e",
   "metadata": {},
   "outputs": [],
   "source": [
    "# A utility function to extract the price from a string\n",
    "\n",
    "def get_price(s):\n",
    "    s = s.replace('$','').replace(',','')\n",
    "    match = re.search(r\"[-+]?\\d*\\.\\d+|\\d+\", s)\n",
    "    return float(match.group()) if match else 0"
   ]
  },
  {
   "cell_type": "code",
   "execution_count": 16,
   "id": "f138c5b7-bcc1-4085-aced-68dad1bf36b4",
   "metadata": {},
   "outputs": [
    {
     "data": {
      "text/plain": [
       "99.99"
      ]
     },
     "execution_count": 16,
     "metadata": {},
     "output_type": "execute_result"
    }
   ],
   "source": [
    "get_price(\"The price is roughly $99.99 because blah blah\")"
   ]
  },
  {
   "cell_type": "code",
   "execution_count": null,
   "id": "501a2a7a-69c8-451b-bbc0-398bcb9e1612",
   "metadata": {},
   "outputs": [],
   "source": [
    "# The function for gpt-4o-mini\n",
    "\n",
    "def gpt_4o_mini(item):\n",
    "    response = openai.chat.completions.create(\n",
    "        model=\"gpt-4o-mini\", \n",
    "        messages=messages_for(item),\n",
    "        seed=42,\n",
    "        max_tokens=5\n",
    "    )\n",
    "    reply = response.choices[0].message.content\n",
    "    return get_price(reply)"
   ]
  },
  {
   "cell_type": "code",
   "execution_count": 18,
   "id": "843d88b4-364a-431b-b48b-8a7c1f68b786",
   "metadata": {},
   "outputs": [
    {
     "data": {
      "text/plain": [
       "546.6"
      ]
     },
     "execution_count": 18,
     "metadata": {},
     "output_type": "execute_result"
    }
   ],
   "source": [
    "test[11].price"
   ]
  },
  {
   "cell_type": "code",
   "execution_count": null,
   "id": "36bdd2c9-1859-4f99-a09f-3ec83b845b30",
   "metadata": {},
   "outputs": [],
   "source": [
    "Tester.test(gpt_4o_mini, test)"
   ]
  },
  {
   "cell_type": "code",
   "execution_count": null,
   "id": "f49e90d6-6749-4eb8-9347-5922b189d379",
   "metadata": {},
   "outputs": [],
   "source": [
    "def gpt_4o_frontier(item):\n",
    "    response = openai.chat.completions.create(\n",
    "        model=\"gpt-4o-2024-08-06\", \n",
    "        messages=messages_for(item),\n",
    "        seed=42,\n",
    "        max_tokens=5\n",
    "    )\n",
    "    reply = response.choices[0].message.content\n",
    "    return get_price(reply)"
   ]
  },
  {
   "cell_type": "code",
   "execution_count": null,
   "id": "766e697e-55bf-4521-b301-3b07d20045e0",
   "metadata": {},
   "outputs": [],
   "source": [
    "# The function for gpt-4o - the August model\n",
    "# Note that it cost me about 1-2 cents to run this (pricing may vary by region)\n",
    "# You can skip this and look at my results instead\n",
    "\n",
    "Tester.test(gpt_4o_frontier, test)"
   ]
  },
  {
   "cell_type": "code",
   "execution_count": null,
   "id": "53d941cb-5b73-44ea-b893-3a0ce9997066",
   "metadata": {},
   "outputs": [],
   "source": [
    "def claude_3_point_5_sonnet(item):\n",
    "    messages = messages_for(item)\n",
    "    system_message = messages[0]['content']\n",
    "    messages = messages[1:]\n",
    "    response = claude.messages.create(\n",
    "        model=\"claude-3-5-sonnet-20240620\",\n",
    "        max_tokens=5,\n",
    "        system=system_message,\n",
    "        messages=messages\n",
    "    )\n",
    "    reply = response.content[0].text\n",
    "    return get_price(reply)"
   ]
  },
  {
   "cell_type": "code",
   "execution_count": null,
   "id": "11dba25d-f562-40f9-9855-40b715b7fc86",
   "metadata": {},
   "outputs": [],
   "source": [
    "# The function for Claude 3.5 Sonnet\n",
    "# It also cost me about 1-2 cents to run this (pricing may vary by region)\n",
    "# You can skip this and look at my results instead\n",
    "\n",
    "Tester.test(claude_3_point_5_sonnet, test)"
   ]
  },
  {
   "cell_type": "code",
   "execution_count": null,
   "id": "77428dfb-d8f4-4477-8265-77b4b0badd39",
   "metadata": {},
   "outputs": [],
   "source": []
  }
 ],
 "metadata": {
  "kernelspec": {
   "display_name": "Python 3 (ipykernel)",
   "language": "python",
   "name": "python3"
  },
  "language_info": {
   "codemirror_mode": {
    "name": "ipython",
    "version": 3
   },
   "file_extension": ".py",
   "mimetype": "text/x-python",
   "name": "python",
   "nbconvert_exporter": "python",
   "pygments_lexer": "ipython3",
   "version": "3.11.9"
  }
 },
 "nbformat": 4,
 "nbformat_minor": 5
}
