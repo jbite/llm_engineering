{
 "cells": [
  {
   "cell_type": "markdown",
   "id": "023cd600-38c8-4eaf-911f-4ccb2d0c378f",
   "metadata": {},
   "source": [
    "## Manage a network device\n",
    "1. User put a task to chat interface\n",
    "2. LLM analyze the task into small sub-task\n",
    "3. LLM transfer those sub-tasks to command\n",
    "4. Show command in the output box\n",
    "5. User agree to run the commands\n",
    "6. LLM use show command to check if the command success "
   ]
  },
  {
   "cell_type": "code",
   "execution_count": null,
   "id": "2900ab90-f586-4c63-bd39-5b836a8d31f8",
   "metadata": {},
   "outputs": [],
   "source": []
  }
 ],
 "metadata": {
  "kernelspec": {
   "display_name": "Python 3 (ipykernel)",
   "language": "python",
   "name": "python3"
  },
  "language_info": {
   "codemirror_mode": {
    "name": "ipython",
    "version": 3
   },
   "file_extension": ".py",
   "mimetype": "text/x-python",
   "name": "python",
   "nbconvert_exporter": "python",
   "pygments_lexer": "ipython3",
   "version": "3.11.9"
  }
 },
 "nbformat": 4,
 "nbformat_minor": 5
}
