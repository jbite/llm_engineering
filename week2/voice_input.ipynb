{
 "cells": [
  {
   "cell_type": "code",
   "execution_count": 3,
   "id": "c6d7691e-6feb-40d8-bd2f-35715a6dd1b6",
   "metadata": {},
   "outputs": [
    {
     "name": "stdin",
     "output_type": "stream",
     "text": [
      "Enter 'start' to record, 'stop' to stop, or 'exit' to quit:  start\n"
     ]
    },
    {
     "name": "stdout",
     "output_type": "stream",
     "text": [
      "Recording started. Say something!\n",
      "Could not understand audio\n",
      "You said: Hi how are you\n",
      "You said: I'm fine thank you and you\n",
      "You said: musica let me check off my\n",
      "You said: what what I found in\n",
      "Could not understand audio\n",
      "You said: stop\n"
     ]
    },
    {
     "name": "stdin",
     "output_type": "stream",
     "text": [
      "Enter 'start' to record, 'stop' to stop, or 'exit' to quit:  stop\n"
     ]
    },
    {
     "name": "stdout",
     "output_type": "stream",
     "text": [
      "You said: look up good\n",
      "Recording stopped.\n",
      "Final Transcription:  Hi how are you I'm fine thank you and you musica let me check off my what what I found in stop look up good\n"
     ]
    },
    {
     "name": "stdin",
     "output_type": "stream",
     "text": [
      "Enter 'start' to record, 'stop' to stop, or 'exit' to quit:  exit\n"
     ]
    },
    {
     "name": "stdout",
     "output_type": "stream",
     "text": [
      "Program finished.\n"
     ]
    }
   ],
   "source": [
    "import speech_recognition as sr\n",
    "import threading\n",
    "import time\n",
    "\n",
    "class SpeechToText:\n",
    "    def __init__(self):\n",
    "        self.r = sr.Recognizer()\n",
    "        self.is_recording = False\n",
    "        self.transcription = \"\"\n",
    "        self.stop_event = threading.Event()  # Use an event to signal stop\n",
    "\n",
    "    def start_recording(self):\n",
    "        if not self.is_recording:\n",
    "            self.is_recording = True\n",
    "            self.stop_event.clear()  # Clear the stop event\n",
    "            print(\"Recording started. Say something!\")\n",
    "            self.recording_thread = threading.Thread(target=self._record_and_recognize)\n",
    "            self.recording_thread.start()\n",
    "\n",
    "    def stop_recording(self):\n",
    "        if self.is_recording:\n",
    "            self.is_recording = False\n",
    "            self.stop_event.set() # Signal the thread to stop\n",
    "            self.recording_thread.join() # Wait for the thread to finish\n",
    "            print(\"Recording stopped.\")\n",
    "            print(\"Final Transcription:\", self.transcription)\n",
    "\n",
    "\n",
    "    def _record_and_recognize(self):\n",
    "        with sr.Microphone() as source:\n",
    "            self.r.adjust_for_ambient_noise(source) # Optional: Adjust for ambient noise\n",
    "            while self.is_recording and not self.stop_event.is_set(): # Check both flags\n",
    "                try:\n",
    "                    audio = self.r.listen(source, timeout=1) # Timeout to check the stop event\n",
    "                    text = self.r.recognize_google(audio)\n",
    "                    print(\"You said:\", text)\n",
    "                    self.transcription += \" \" + text  # Accumulate transcriptions\n",
    "                except sr.UnknownValueError:\n",
    "                    print(\"Could not understand audio\")\n",
    "                except sr.RequestError as e:\n",
    "                    print(\"Could not request results from speech recognition service; {0}\".format(e))\n",
    "                except sr.WaitTimeoutError: # Handle the timeout\n",
    "                    pass # Just continue if no speech is detected within the timeout.\n",
    "\n",
    "\n",
    "\n",
    "# Example usage:\n",
    "speech_engine = SpeechToText()\n",
    "\n",
    "while True:\n",
    "    user_input = input(\"Enter 'start' to record, 'stop' to stop, or 'exit' to quit: \").lower()\n",
    "    if user_input == 'start':\n",
    "        speech_engine.start_recording()\n",
    "    elif user_input == 'stop':\n",
    "        speech_engine.stop_recording()\n",
    "    elif user_input == 'exit':\n",
    "        break\n",
    "    else:\n",
    "        print(\"Invalid input.\")\n",
    "\n",
    "print(\"Program finished.\")"
   ]
  },
  {
   "cell_type": "code",
   "execution_count": null,
   "id": "ecf41110-981e-4248-826e-9ac84c663eff",
   "metadata": {},
   "outputs": [],
   "source": []
  }
 ],
 "metadata": {
  "kernelspec": {
   "display_name": "Python 3 (ipykernel)",
   "language": "python",
   "name": "python3"
  },
  "language_info": {
   "codemirror_mode": {
    "name": "ipython",
    "version": 3
   },
   "file_extension": ".py",
   "mimetype": "text/x-python",
   "name": "python",
   "nbconvert_exporter": "python",
   "pygments_lexer": "ipython3",
   "version": "3.11.9"
  }
 },
 "nbformat": 4,
 "nbformat_minor": 5
}
