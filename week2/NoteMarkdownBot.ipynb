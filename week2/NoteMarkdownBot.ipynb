{
 "cells": [
  {
   "cell_type": "markdown",
   "id": "c1911535-d721-417c-8b80-e2581c331c11",
   "metadata": {},
   "source": [
    "# Project NoteMarkdown AssistantBot"
   ]
  },
  {
   "cell_type": "code",
   "execution_count": 4,
   "id": "228e45e3-55cd-4b0e-968a-96c2dff32431",
   "metadata": {},
   "outputs": [],
   "source": [
    "# imports\n",
    "\n",
    "import os\n",
    "import requests\n",
    "from dotenv import load_dotenv\n",
    "from IPython.display import Markdown, display\n",
    "import google.generativeai as genai\n",
    "import time"
   ]
  },
  {
   "cell_type": "code",
   "execution_count": 2,
   "id": "302d70e2-c594-49f0-9ee2-da00a04087ee",
   "metadata": {},
   "outputs": [],
   "source": [
    "# Load environment variables in a file called .env\n",
    "load_dotenv()\n",
    "os.environ['GOOGLE_API_KEY'] = os.getenv('GOOGLE_API_KEY', 'your-key-if-not-using-env')"
   ]
  },
  {
   "cell_type": "code",
   "execution_count": 5,
   "id": "7543b6f6-e847-45a6-9555-77bdc8a4719d",
   "metadata": {},
   "outputs": [],
   "source": [
    "# Start Google API\n",
    "\n",
    "load_dotenv(override=True)\n",
    "GOOGLE_API_KEY = os.getenv(\"GOOGLE_API_KEY\")\n",
    "MODEL = \"gemini-1.5-flash\"\n",
    "genai.configure(api_key=GOOGLE_API_KEY)"
   ]
  },
  {
   "cell_type": "code",
   "execution_count": 6,
   "id": "139fbdb1-45a2-4f7d-b7b5-d9a142eea9b6",
   "metadata": {},
   "outputs": [],
   "source": [
    "# gemini chat \n",
    "\n",
    "chat = gemini.start_chat(history=[])\n",
    "\n",
    "# Transform Gradio history to Gemini format\n",
    "def transform_history(history):\n",
    "    new_history = []\n",
    "    for chat in history:\n",
    "        new_history.append({\"parts\": {\"text\": chat[0]}, \"role\": \"user\"})\n",
    "        new_history.append({\"parts\": {\"text\": chat[1]}, \"role\": \"model\"})\n",
    "    return new_history\n",
    "\n",
    "def response(message, history):\n",
    "    global chat\n",
    "    # The history will be the same as in Gradio, the 'Undo' and 'Clear' buttons will work correctly.\n",
    "    chat.history = transform_history(history)\n",
    "    response = chat.send_message(message)\n",
    "    response.resolve()\n",
    "\n",
    "    # Each character of the answer is displayed\n",
    "    for i in range(len(response.text)):\n",
    "        time.sleep(0.01)\n",
    "        yield response.text[: i+1]\n",
    "\n",
    "gr.ChatInterface(response,\n",
    "                 type=\"messages\",\n",
    "                 textbox=gr.Textbox(placeholder=\"Question to Gemini\")).launch(debug=True)"
   ]
  },
  {
   "cell_type": "code",
   "execution_count": null,
   "id": "38532eb7-a7bf-4c53-9c93-a59f6b54a08c",
   "metadata": {},
   "outputs": [],
   "source": [
    "# summarizer class\n",
    "class TextSummarizer:\n",
    "    def __init__(self, role):\n",
    "        \n",
    "        self.roles = {\n",
    "            \"concise\": \"You are a master summarizer. Condense the following text into clear, concise markdown bullet points, highlighting the key takeaways and actionable items. Prioritize brevity and clarity.\",\n",
    "            \"structured\": \"You are a logical and organized thinker. Structure the following text into a well-formatted markdown document with headings, subheadings, and lists. Identify the main arguments, supporting evidence, and any logical connections between ideas. Use proper hierarchy and indentation.\",\n",
    "            \"detail\": \"You are a meticulous analyst. Transform the following text into detailed markdown notes. Include all relevant information, even seemingly minor details. Use tables, lists, and code blocks where appropriate to present the information clearly and comprehensively.\",\n",
    "            \"creative\": \"You are a creative writer with a flair for language. Convert the following text into engaging and descriptive markdown notes. Use vivid imagery, metaphors, and storytelling techniques to make the notes memorable and interesting. Focus on capturing the essence and spirit of the original text.\",\n",
    "            \"technical\": \"You are a technical expert in software development. Convert the following technical documentation into well-structured markdown. Pay close attention to code examples, API specifications, and technical terminology. Use code blocks, tables, and lists to enhance readability.\",\n",
    "            \"historian\": \"You are a historian specializing in capturing the essence of historical events. Convert the following text into markdown notes that emphasize the timeline, key figures, and significant events. Use timelines, maps (if applicable and you can generate them), and quotations to bring the history to life.\",\n",
    "            \"philosopher\": \"You are a philosopher skilled in abstract thought. Transform the following philosophical text into well-structured markdown notes. Focus on identifying the core arguments, exploring different perspectives, and highlighting any underlying assumptions. Use quotes and examples to illustrate the concepts.\",\n",
    "            \"teacher\": \"You are a teacher explaining a complex concept. Convert the following text into easy-to-understand markdown notes suitable for students. Use clear language, simple examples, and visual aids (if applicable). Break down complex ideas into smaller, digestible chunks.\",\n",
    "            \"researcher\": \"You are a researcher conducting a literature review. Convert the following research papers into structured markdown notes. Focus on summarizing the key findings, methodologies, and contributions of each paper. Use citations and a consistent formatting style.\",\n",
    "            \"assistant\": \"You are a highly organized personal assistant. Convert the following meeting notes into actionable markdown items. Identify tasks, deadlines, assigned individuals, and any relevant context. Use checklists, tables, and bolding to highlight important information.\",\n",
    "        }\n",
    "        if role not in self.roles:\n",
    "            raise ValueError(f\"Invalid role: {role}. Available roles are: {', '.join(self.roles.keys())}\")\n",
    "        self.model = genai.GenerativeModel(model_name=MODEL,\n",
    "                                          system_instruction=self.roles[role])\n",
    "        self.user_prompt = \"\"\"\n",
    "I will provide my note to you. \n",
    "If the notes knowledge point is incomplete, please provide complementary information. \n",
    "If you are not 100% sure of the answer, write「Need to collect the knowledge point」. \n",
    "If code is included in the notes, please provide the code in a code block. \n",
    "The content you provide needs to be written in markdown: Here are the notes:\\n\"\"\"\n",
    "        \n",
    "        \n",
    "        self.response = \"\"\n",
    "    def summarize(self, text, stream=False):\n",
    "        messages = self.user_prompt + text\n",
    "        self.response = self.model.generate_content(messages, stream=stream)\n",
    "        return self.response.text\n",
    "    \n"
   ]
  },
  {
   "cell_type": "code",
   "execution_count": null,
   "id": "71b57359-2709-4a8e-aa5d-361f375e5d27",
   "metadata": {},
   "outputs": [],
   "source": [
    "# file handler\n",
    "\n",
    "class Documents:\n",
    "    def __init__(self,filepath):\n",
    "        self.path = filepath\n",
    "        self.text = \"\"\n",
    "        with open(self.path, 'r', encoding='utf-8') as f:\n",
    "            for line in f:\n",
    "                self.text += line\n",
    "\n",
    "fileNote = input(\"Your Notes: \")\n",
    "doc = Documents(fileNote)\n",
    "print(doc.text)"
   ]
  }
 ],
 "metadata": {
  "kernelspec": {
   "display_name": "Python 3 (ipykernel)",
   "language": "python",
   "name": "python3"
  },
  "language_info": {
   "codemirror_mode": {
    "name": "ipython",
    "version": 3
   },
   "file_extension": ".py",
   "mimetype": "text/x-python",
   "name": "python",
   "nbconvert_exporter": "python",
   "pygments_lexer": "ipython3",
   "version": "3.11.9"
  }
 },
 "nbformat": 4,
 "nbformat_minor": 5
}
