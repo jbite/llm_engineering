{
 "cells": [
  {
   "cell_type": "code",
   "execution_count": 31,
   "id": "59d491c5-39bf-4583-9284-284f1f8fcff7",
   "metadata": {},
   "outputs": [],
   "source": [
    "# import\n",
    "import os\n",
    "import requests\n",
    "from dotenv import load_dotenv\n",
    "from IPython.display import Markdown, display\n",
    "import google.generativeai as genai\n",
    "from typing import IO"
   ]
  },
  {
   "cell_type": "code",
   "execution_count": 32,
   "id": "54045bda-49d0-448a-9c9f-7577f55ff9db",
   "metadata": {},
   "outputs": [],
   "source": [
    "# Start Google API\n",
    "\n",
    "load_dotenv(override=True)\n",
    "GOOGLE_API_KEY = os.getenv(\"GOOGLE_API_KEY\")\n",
    "MODEL = \"gemini-1.5-flash\"\n",
    "genai.configure(api_key=GOOGLE_API_KEY)\n"
   ]
  },
  {
   "cell_type": "code",
   "execution_count": 39,
   "id": "5eaacafe-5624-40e2-8069-680210cda67d",
   "metadata": {},
   "outputs": [],
   "source": [
    "class NoteSummarizer:\n",
    "    def __init__(self):\n",
    "        self.roles = {\n",
    "            \"concise\": \"You are a master summarizer. Condense the following text into clear, concise markdown bullet points, highlighting the key takeaways and actionable items. Prioritize brevity and clarity.\",\n",
    "            \"structured\": \"You are a logical and organized thinker. Structure the following text into a well-formatted markdown document with headings, subheadings, and lists. Identify the main arguments, supporting evidence, and any logical connections between ideas. Use proper hierarchy and indentation.\",\n",
    "            \"detail\": \"You are a meticulous analyst. Transform the following text into detailed markdown notes. Include all relevant information, even seemingly minor details. Use tables, lists, and code blocks where appropriate to present the information clearly and comprehensively.\",\n",
    "            \"creative\": \"You are a creative writer with a flair for language. Convert the following text into engaging and descriptive markdown notes. Use vivid imagery, metaphors, and storytelling techniques to make the notes memorable and interesting. Focus on capturing the essence and spirit of the original text.\",\n",
    "            \"technical\": \"You are a technical expert in software development. Convert the following technical documentation into well-structured markdown. Pay close attention to code examples, API specifications, and technical terminology. Use code blocks, tables, and lists to enhance readability.\",\n",
    "            \"historian\": \"You are a historian specializing in capturing the essence of historical events. Convert the following text into markdown notes that emphasize the timeline, key figures, and significant events. Use timelines, maps (if applicable and you can generate them), and quotations to bring the history to life.\",\n",
    "            \"philosopher\": \"You are a philosopher skilled in abstract thought. Transform the following philosophical text into well-structured markdown notes. Focus on identifying the core arguments, exploring different perspectives, and highlighting any underlying assumptions. Use quotes and examples to illustrate the concepts.\",\n",
    "            \"teacher\": \"You are a teacher explaining a complex concept. Convert the following text into easy-to-understand markdown notes suitable for students. Use clear language, simple examples, and visual aids (if applicable). Break down complex ideas into smaller, digestible chunks.\",\n",
    "            \"researcher\": \"You are a researcher conducting a literature review. Convert the following research papers into structured markdown notes. Focus on summarizing the key findings, methodologies, and contributions of each paper. Use citations and a consistent formatting style.\",\n",
    "            \"assistant\": \"You are a highly organized personal assistant. Convert the following meeting notes into actionable markdown items. Identify tasks, deadlines, assigned individuals, and any relevant context. Use checklists, tables, and bolding to highlight important information.\",\n",
    "        }\n",
    "        self.model = \"gemini-1.5-flash\"\n",
    "        self.user_prompt = \"\"\"\n",
    "I will provide my note to you. \n",
    "If the notes knowledge point is incomplete, please provide complementary information. \n",
    "If you are not 100% sure of the answer, write「Need to collect the knowledge point」. \n",
    "If code is included in the notes, please provide the code in a code block. \n",
    "The content you provide needs to be written in markdown: Here are the notes:\\n\"\"\"\n",
    "        \n",
    "        \n",
    "    def __call__(self, file_obj: IO | None, role: str):  # Type hints and handle None\n",
    "        print(role)\n",
    "        if file_obj is None:\n",
    "            return \"No file uploaded\", \"\"\n",
    "\n",
    "        if role not in self.roles:\n",
    "            return f\"Invalid role: {role}. Available roles are: {', '.join(self.roles.keys())}\", \"\"\n",
    "\n",
    "        \n",
    "        self.model = genai.GenerativeModel(model_name=MODEL, system_instruction=self.roles[role])\n",
    "\n",
    "        try:\n",
    "            filepath = file_obj.name\n",
    "            with open(filepath, \"r\", encoding=\"utf-8\") as f:\n",
    "                file_content = f.read()\n",
    "\n",
    "            messages = self.user_prompt + file_content  # Construct messages here\n",
    "            response = self.model.generate_content(messages) # removed stream=stream\n",
    "            return response.text\n",
    "\n",
    "        except Exception as e:\n",
    "            return f\"Error: {e}\", \"\"\n",
    "        \n",
    "\n",
    "    def fileContent(self):\n",
    "        if file_obj is None:  # Handle the case where no file is uploaded\n",
    "            return \"No file uploaded\", \"\"\n",
    "    \n",
    "        try:\n",
    "            # Option 1: Read directly from the temporary file path (most efficient)\n",
    "            filepath = self.file_obj.name  # Get the path of the uploaded temp file\n",
    "            with open(filepath, \"r\", encoding=\"utf-8\") as f: # Explicitly specify UTF-8 encoding\n",
    "                file_content = f.read()\n",
    "            return \"File processed successfully!\", file_content\n",
    "    \n",
    "        except Exception as e:\n",
    "            return f\"Error processing file: {e}\", \"\"\n",
    "    "
   ]
  },
  {
   "cell_type": "code",
   "execution_count": 40,
   "id": "67551925-bbbf-4c57-9017-3e741e9803d6",
   "metadata": {},
   "outputs": [
    {
     "name": "stdout",
     "output_type": "stream",
     "text": [
      "* Running on local URL:  http://127.0.0.1:7865\n",
      "\n",
      "To create a public link, set `share=True` in `launch()`.\n"
     ]
    },
    {
     "data": {
      "text/html": [
       "<div><iframe src=\"http://127.0.0.1:7865/\" width=\"100%\" height=\"500\" allow=\"autoplay; camera; microphone; clipboard-read; clipboard-write;\" frameborder=\"0\" allowfullscreen></iframe></div>"
      ],
      "text/plain": [
       "<IPython.core.display.HTML object>"
      ]
     },
     "metadata": {},
     "output_type": "display_data"
    },
    {
     "data": {
      "text/plain": []
     },
     "execution_count": 40,
     "metadata": {},
     "output_type": "execute_result"
    },
    {
     "name": "stdout",
     "output_type": "stream",
     "text": [
      "concise\n",
      "technical\n"
     ]
    }
   ],
   "source": [
    "import gradio as gr\n",
    "    \n",
    "with gr.Blocks() as app:\n",
    "    file_input = gr.File(label=\"Upload a File\")\n",
    "    role = gr.Dropdown(\n",
    "        [\"concise\", \"structured\", \"detail\", \"teacher\", \"creative\", \"technical\", \"historian\", \"philosopher\", \"researcher\", \"assistant\"],  # All your roles\n",
    "        label=\"Select a role\"\n",
    "    )\n",
    "    text_output = gr.Textbox(label=\"File Summary\")\n",
    "    process_button = gr.Button(\"Process File\")\n",
    "\n",
    "    markdownSummarizer = NoteSummarizer()  # Create an instance\n",
    "\n",
    "    process_button.click(\n",
    "        markdownSummarizer,\n",
    "        inputs=[file_input, role],\n",
    "        outputs=[text_output]\n",
    "    )\n",
    "\n",
    "app.launch()"
   ]
  },
  {
   "cell_type": "code",
   "execution_count": null,
   "id": "04a6976a-8940-45f0-85c9-b1d9069c236a",
   "metadata": {},
   "outputs": [],
   "source": []
  }
 ],
 "metadata": {
  "kernelspec": {
   "display_name": "Python 3 (ipykernel)",
   "language": "python",
   "name": "python3"
  },
  "language_info": {
   "codemirror_mode": {
    "name": "ipython",
    "version": 3
   },
   "file_extension": ".py",
   "mimetype": "text/x-python",
   "name": "python",
   "nbconvert_exporter": "python",
   "pygments_lexer": "ipython3",
   "version": "3.11.9"
  }
 },
 "nbformat": 4,
 "nbformat_minor": 5
}
