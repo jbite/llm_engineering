{
 "cells": [
  {
   "cell_type": "code",
   "execution_count": 2,
   "id": "4ffb106e-4193-4c07-b95d-2e2d9c309aeb",
   "metadata": {},
   "outputs": [],
   "source": [
    "import os\n",
    "import requests\n",
    "from dotenv import load_dotenv\n",
    "from bs4 import BeautifulSoup\n",
    "from IPython.display import Markdown, display\n",
    "import google.generativeai as genai"
   ]
  },
  {
   "cell_type": "code",
   "execution_count": 3,
   "id": "e9266f5c-7ada-4cd6-ae5f-86da156f91ab",
   "metadata": {},
   "outputs": [],
   "source": [
    "# Constants\n",
    "load_dotenv(override=True)\n",
    "GOOGLE_API_KEY = os.getenv(\"GOOGLE_API_KEY\")\n",
    "HEADERS = {\"Content-Type\": \"application/json\"}\n",
    "MODEL = \"gemini-1.5-flash\"\n",
    "\n",
    "genai.configure(api_key=GOOGLE_API_KEY)"
   ]
  },
  {
   "cell_type": "code",
   "execution_count": 4,
   "id": "795931a3-a202-4d9c-aa23-a9b3832e0c6f",
   "metadata": {
    "scrolled": true
   },
   "outputs": [
    {
     "name": "stdout",
     "output_type": "stream",
     "text": [
      "models/gemini-1.0-pro-latest\n",
      "models/gemini-1.0-pro\n",
      "models/gemini-pro\n",
      "models/gemini-1.0-pro-001\n",
      "models/gemini-1.0-pro-vision-latest\n",
      "models/gemini-pro-vision\n",
      "models/gemini-1.5-pro-latest\n",
      "models/gemini-1.5-pro-001\n",
      "models/gemini-1.5-pro-002\n",
      "models/gemini-1.5-pro\n",
      "models/gemini-1.5-pro-exp-0801\n",
      "models/gemini-1.5-pro-exp-0827\n",
      "models/gemini-1.5-flash-latest\n",
      "models/gemini-1.5-flash-001\n",
      "models/gemini-1.5-flash-001-tuning\n",
      "models/gemini-1.5-flash\n",
      "models/gemini-1.5-flash-exp-0827\n",
      "models/gemini-1.5-flash-002\n",
      "models/gemini-1.5-flash-8b\n",
      "models/gemini-1.5-flash-8b-001\n",
      "models/gemini-1.5-flash-8b-latest\n",
      "models/gemini-1.5-flash-8b-exp-0827\n",
      "models/gemini-1.5-flash-8b-exp-0924\n",
      "models/gemini-2.0-flash-exp\n",
      "models/gemini-exp-1206\n",
      "models/gemini-exp-1121\n",
      "models/gemini-exp-1114\n",
      "models/gemini-2.0-flash-thinking-exp-01-21\n",
      "models/gemini-2.0-flash-thinking-exp\n",
      "models/gemini-2.0-flash-thinking-exp-1219\n",
      "models/learnlm-1.5-pro-experimental\n"
     ]
    }
   ],
   "source": [
    "for m in genai.list_models():\n",
    "    if 'generateContent' in m.supported_generation_methods:\n",
    "        print(m.name)"
   ]
  },
  {
   "cell_type": "code",
   "execution_count": 5,
   "id": "6fab8ec4-e18f-4ea0-81dc-4aff3c42b3c9",
   "metadata": {},
   "outputs": [],
   "source": [
    "model = genai.GenerativeModel(MODEL)"
   ]
  },
  {
   "cell_type": "code",
   "execution_count": 6,
   "id": "0ecc04fd-0b32-4ea3-bad0-3807ccf2ef16",
   "metadata": {},
   "outputs": [],
   "source": [
    "messages = \"Describe some of the business applications of Generative AI\""
   ]
  },
  {
   "cell_type": "code",
   "execution_count": 7,
   "id": "3e11702a-c361-4dde-a69d-4d788a3ccbe7",
   "metadata": {},
   "outputs": [],
   "source": [
    "response = model.generate_content(messages,stream=True)"
   ]
  },
  {
   "cell_type": "code",
   "execution_count": 8,
   "id": "4e050070-1f53-4b45-af47-af2d4c4cbe33",
   "metadata": {
    "scrolled": true
   },
   "outputs": [
    {
     "data": {
      "text/markdown": [
       "Gener"
      ],
      "text/plain": [
       "<IPython.core.display.Markdown object>"
      ]
     },
     "metadata": {},
     "output_type": "display_data"
    },
    {
     "data": {
      "text/markdown": [
       "ative AI is rapidly finding its place in numerous business applications, revolutionizing how companies"
      ],
      "text/plain": [
       "<IPython.core.display.Markdown object>"
      ]
     },
     "metadata": {},
     "output_type": "display_data"
    },
    {
     "data": {
      "text/markdown": [
       " operate and interact with customers. Here are some key examples:\n",
       "\n",
       "**Marketing &"
      ],
      "text/plain": [
       "<IPython.core.display.Markdown object>"
      ]
     },
     "metadata": {},
     "output_type": "display_data"
    },
    {
     "data": {
      "text/markdown": [
       " Sales:**\n",
       "\n",
       "* **Content Creation:**  Generating marketing copy (website text, ad copy, social media posts), blog posts, product descriptions, email newsletters,"
      ],
      "text/plain": [
       "<IPython.core.display.Markdown object>"
      ]
     },
     "metadata": {},
     "output_type": "display_data"
    },
    {
     "data": {
      "text/markdown": [
       " and even scripts for videos at scale and with speed.  This frees up human marketers to focus on strategy and higher-level tasks.\n",
       "* **Personalized Experiences"
      ],
      "text/plain": [
       "<IPython.core.display.Markdown object>"
      ]
     },
     "metadata": {},
     "output_type": "display_data"
    },
    {
     "data": {
      "text/markdown": [
       ":** Creating customized product recommendations, personalized emails, and targeted advertising based on individual customer data and preferences.  This leads to improved engagement and conversion rates.\n",
       "* **Chatbots & Virtual Assistants:**  Building more sophisticated and human-like chat"
      ],
      "text/plain": [
       "<IPython.core.display.Markdown object>"
      ]
     },
     "metadata": {},
     "output_type": "display_data"
    },
    {
     "data": {
      "text/markdown": [
       "bots capable of handling complex customer inquiries, providing support, and even negotiating sales.\n",
       "* **Image & Video Generation:** Creating visually appealing marketing materials like images for social media, product demos, and advertising campaigns, quickly and cost-effectively."
      ],
      "text/plain": [
       "<IPython.core.display.Markdown object>"
      ]
     },
     "metadata": {},
     "output_type": "display_data"
    },
    {
     "data": {
      "text/markdown": [
       "\n",
       "\n",
       "**Product Development & Design:**\n",
       "\n",
       "* **Prototyping & Design:** Generating initial designs for products, websites, and user interfaces, accelerating the design process and enabling rapid iteration.\n",
       "* **New Material Discovery:**  AI can predict the properties of new materials, drastically reducing the time and cost associated with traditional R&"
      ],
      "text/plain": [
       "<IPython.core.display.Markdown object>"
      ]
     },
     "metadata": {},
     "output_type": "display_data"
    },
    {
     "data": {
      "text/markdown": [
       "D.\n",
       "* **Personalized Product Design:**  Generating customized products tailored to individual customer specifications.  Think personalized clothing, shoes, or even furniture.\n",
       "\n",
       "**Customer Service:**\n",
       "\n",
       "* **Automated Response Systems:**  Handling routine customer inquiries and providing immediate support 24/7, reducing the burden on human agents."
      ],
      "text/plain": [
       "<IPython.core.display.Markdown object>"
      ]
     },
     "metadata": {},
     "output_type": "display_data"
    },
    {
     "data": {
      "text/markdown": [
       "\n",
       "* **Sentiment Analysis & Feedback Processing:**  Analyzing customer feedback (reviews, surveys, social media posts) to identify trends, pain points, and areas for improvement.\n",
       "\n",
       "**Operations & Internal Processes:**\n",
       "\n",
       "* **Code Generation:** Automating parts of software development by generating code snippets, translating between programming languages, and"
      ],
      "text/plain": [
       "<IPython.core.display.Markdown object>"
      ]
     },
     "metadata": {},
     "output_type": "display_data"
    },
    {
     "data": {
      "text/markdown": [
       " assisting with debugging.\n",
       "* **Data Analysis & Reporting:** Automating the creation of reports and visualizations from complex datasets, saving time and resources.\n",
       "* **Process Automation:**  Automating repetitive tasks such as data entry, invoice processing, and report generation.\n",
       "\n",
       "**Other Applications:**\n",
       "\n",
       "* **Drug Discovery & Development"
      ],
      "text/plain": [
       "<IPython.core.display.Markdown object>"
      ]
     },
     "metadata": {},
     "output_type": "display_data"
    },
    {
     "data": {
      "text/markdown": [
       ":** Accelerating the process of identifying and developing new drugs by generating novel molecule designs and predicting their efficacy.\n",
       "* **Financial Modeling:**  Creating more accurate and sophisticated financial models by generating synthetic data and simulating various market scenarios.\n",
       "* **Education:** Creating personalized learning experiences, generating educational content (quizzes, exercises,"
      ],
      "text/plain": [
       "<IPython.core.display.Markdown object>"
      ]
     },
     "metadata": {},
     "output_type": "display_data"
    },
    {
     "data": {
      "text/markdown": [
       " summaries), and assisting with grading.\n",
       "\n",
       "\n",
       "It's crucial to note that while generative AI offers immense potential,  businesses also need to consider ethical implications, such as potential biases in generated content, the risk of misinformation, and the need for human oversight to ensure accuracy and quality.  The successful implementation of generative AI requires"
      ],
      "text/plain": [
       "<IPython.core.display.Markdown object>"
      ]
     },
     "metadata": {},
     "output_type": "display_data"
    },
    {
     "data": {
      "text/markdown": [
       " a strategic approach and careful consideration of these factors.\n"
      ],
      "text/plain": [
       "<IPython.core.display.Markdown object>"
      ]
     },
     "metadata": {},
     "output_type": "display_data"
    }
   ],
   "source": [
    "for chunk in response:\n",
    "    display(Markdown(chunk.text))"
   ]
  },
  {
   "cell_type": "code",
   "execution_count": 9,
   "id": "27122aa0-7b14-42bf-96c7-b301adfba112",
   "metadata": {},
   "outputs": [],
   "source": [
    "headers = {\n",
    " \"User-Agent\": \"Mozilla/5.0 (Windows NT 10.0; Win64; x64) AppleWebKit/537.36 (KHTML, like Gecko) Chrome/117.0.0.0 Safari/537.36\"\n",
    "}\n",
    "\n",
    "class Website:\n",
    "\n",
    "    def __init__(self, url):\n",
    "        \"\"\"\n",
    "        Create this Website object from the given url using the BeautifulSoup library\n",
    "        \"\"\"\n",
    "        self.url = url\n",
    "        response = requests.get(url, headers=headers)\n",
    "        soup = BeautifulSoup(response.content, 'html.parser')\n",
    "        self.title = soup.title.string if soup.title else \"No title found\"\n",
    "        for irrelevant in soup.body([\"script\", \"style\", \"img\", \"input\"]):\n",
    "            irrelevant.decompose()\n",
    "        self.text = soup.body.get_text(separator=\"\\n\", strip=True)"
   ]
  },
  {
   "cell_type": "code",
   "execution_count": 10,
   "id": "1d01322d-2c39-4ac5-bc5a-a2ef8ba221aa",
   "metadata": {},
   "outputs": [
    {
     "name": "stdout",
     "output_type": "stream",
     "text": [
      "Best AI-Powered Web Scraping Tools for Data Collection\n",
      "<__main__.Website object at 0x000002B09593E810>\n"
     ]
    }
   ],
   "source": [
    "ed = Website(\"https://travis.media/blog/ai-web-scraping-tools/\")\n",
    "print(ed.title)\n",
    "print(ed)"
   ]
  },
  {
   "cell_type": "code",
   "execution_count": 20,
   "id": "410e8954-3d16-47a1-a810-9b51504edc50",
   "metadata": {},
   "outputs": [],
   "source": [
    "# A function that writes a User Prompt that asks for summaries of websites:\n",
    "\n",
    "def user_prompt_for(website):\n",
    "    system_prompt = \"You are an assistant that analyzes the contents of a website \\\n",
    "and provides a detail summary in traditional chinese, ignoring text that might be navigation related. \\\n",
    "Respond in markdown.\"\n",
    "    user_prompt = system_prompt + f\"You are looking at a website titled {website.title}\"\n",
    "    user_prompt += \"\\nThe contents of this website is as follows; \\\n",
    "please provide a detail summary of this website in markdown. \\\n",
    "If it includes news or announcements, then summarize these too.\\n\\n\"\n",
    "    user_prompt += website.text\n",
    "    # print(user_prompt)\n",
    "    return user_prompt"
   ]
  },
  {
   "cell_type": "code",
   "execution_count": 18,
   "id": "a9aec5d3-abf9-42b9-990f-77c7484a3a23",
   "metadata": {},
   "outputs": [],
   "source": [
    "# And now: call the OpenAI API. You will get very familiar with this!\n",
    "\n",
    "def summarize(url):\n",
    "    website = Website(url)\n",
    "    messages = user_prompt_for(website)\n",
    "    response = model.generate_content(messages)\n",
    "    # return response.choices[0].message.content\n",
    "    return response.text"
   ]
  },
  {
   "cell_type": "code",
   "execution_count": 21,
   "id": "87ce8401-a4b8-4621-ac08-22e404ef1357",
   "metadata": {},
   "outputs": [
    {
     "data": {
      "text/markdown": [
       "## 人工智慧驅動的網頁抓取工具：資料收集的最佳選擇 (繁體中文)\n",
       "\n",
       "本文探討了當今資料驅動的世界中，人工智慧(AI)驅動的網頁抓取工具如何徹底改變資料收集和分析的方式。傳統的網頁抓取方法耗時且費力，而AI工具則透過機器學習演算法自動導航網站、提取相關資料，並處理動態內容、CAPTCHA和反抓取措施等複雜情況。此文重點介紹了五種最佳的AI網頁抓取工具，並分析了AI網頁抓取的優勢和應用案例。\n",
       "\n",
       "**五種領先的AI網頁抓取工具：**\n",
       "\n",
       "1. **Octoparse:**  一個使用者友善的工具，無需編碼經驗即可使用。它具有直覺的點擊式介面，可輕鬆從任何網站提取資料，並能處理動態內容、分頁和AJAX載入的資料。提供免費方案(功能受限)。\n",
       "\n",
       "2. **ParseHub:**  另一個強大的AI網頁抓取工具，可從複雜網站提取資料。其機器學習引擎分析網站結構並建議最相關的資料進行抓取，輕鬆處理互動元素、無限滾動和巢狀資料結構。支援文字、圖片和檔案的抓取。\n",
       "\n",
       "3. **Diffbot:**  一個超越傳統網頁抓取的AI資料提取平台。它使用自然語言處理和機器學習自動從網站提取結構化資料，理解網頁的上下文和語義，非常適合建立知識圖譜和分析非結構化資料。提供預建API和客製化API開發。\n",
       "\n",
       "4. **Scrapy:**  一個開源的網頁抓取框架，需要編碼知識(Python)。它具有高度客製化和擴充性，支援並發請求以加快抓取速度，並與TensorFlow和PyTorch等AI函式庫整合，實現智慧型資料提取。\n",
       "\n",
       "5. **ScrapeStorm:**  另一個具有視覺化無程式碼介面的AI網頁抓取工具。它使用機器學習自動識別網站上的列表、表格和分頁元素，並支援多種資料匯出選項。\n",
       "\n",
       "\n",
       "**AI驅動網頁抓取的優勢：**\n",
       "\n",
       "* **效率提升:** 自動化導航、資料提取和複雜場景處理，快速有效地收集大量資料。\n",
       "* **準確度提高:**  AI工具可以學習和適應不同的網站佈局，確保更準確可靠的資料提取，減少傳統方法中因動態內容或網站結構不一致造成的錯誤。\n",
       "* **成本節省:**  減少人工干預，降低資料收集的整體成本。\n",
       "* **競爭優勢:**  及時準確的資料有助於做出明智的決策，例如監控競爭對手的價格、市場趨勢和客戶行為等。\n",
       "\n",
       "\n",
       "**AI驅動網頁抓取的應用案例：**\n",
       "\n",
       "* **價格監控和優化:**  電商企業可以監控競爭對手的價格並優化自身定價策略。\n",
       "* **潛在客戶開發:**  銷售和市場團隊可以收集聯絡資訊、職位和公司詳情以開發目標潛在客戶。\n",
       "* **情緒分析:**  提取客戶評論、社群媒體提及和論壇討論，分析客戶情緒並找出改進方向。\n",
       "* **市場研究:**  收集市場趨勢、消費者行為和行業統計資料，為商業策略提供資訊。\n",
       "\n",
       "\n",
       "**結論:**\n",
       "\n",
       "AI驅動的網頁抓取工具正在徹底改變企業收集和分析網站資料的方式。選擇工具時，應考慮易用性、資料處理能力、客製化選項和價格等因素。投資AI驅動的網頁抓取可以顯著增強資料收集工作，推動業務增長。\n",
       "\n",
       "\n",
       "**(文章中其他與導覽無關的內容已包含於上述摘要中)**\n"
      ],
      "text/plain": [
       "<IPython.core.display.Markdown object>"
      ]
     },
     "metadata": {},
     "output_type": "display_data"
    }
   ],
   "source": [
    "url = \"https://travis.media/blog/ai-web-scraping-tools/\"\n",
    "display(Markdown(summarize(url)))"
   ]
  },
  {
   "cell_type": "code",
   "execution_count": null,
   "id": "9ad4ac69-e8cf-437d-96dd-47126155c4e3",
   "metadata": {},
   "outputs": [],
   "source": []
  }
 ],
 "metadata": {
  "kernelspec": {
   "display_name": "Python 3 (ipykernel)",
   "language": "python",
   "name": "python3"
  },
  "language_info": {
   "codemirror_mode": {
    "name": "ipython",
    "version": 3
   },
   "file_extension": ".py",
   "mimetype": "text/x-python",
   "name": "python",
   "nbconvert_exporter": "python",
   "pygments_lexer": "ipython3",
   "version": "3.11.9"
  }
 },
 "nbformat": 4,
 "nbformat_minor": 5
}
