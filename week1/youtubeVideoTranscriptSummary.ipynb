{
 "cells": [
  {
   "cell_type": "markdown",
   "id": "5d708125-df00-4799-bd2c-c5c186bda525",
   "metadata": {},
   "source": [
    "# Import library\n",
    "those are the requirement for the application"
   ]
  },
  {
   "cell_type": "code",
   "execution_count": 2,
   "id": "0ba5c863-a8f3-4fc9-9c7e-d3192a4ac91f",
   "metadata": {
    "scrolled": true
   },
   "outputs": [
    {
     "name": "stdout",
     "output_type": "stream",
     "text": [
      "Requirement already satisfied: youtube-transcript-api in c:\\users\\checfeng\\appdata\\local\\programs\\python\\python311\\lib\\site-packages (0.6.3)\n",
      "Requirement already satisfied: google-generativeai in c:\\users\\checfeng\\appdata\\local\\programs\\python\\python311\\lib\\site-packages (0.8.3)\n",
      "Collecting googlesearch-python\n",
      "  Downloading googlesearch_python-1.3.0-py3-none-any.whl.metadata (3.4 kB)\n",
      "Requirement already satisfied: defusedxml<0.8.0,>=0.7.1 in c:\\users\\checfeng\\appdata\\local\\programs\\python\\python311\\lib\\site-packages (from youtube-transcript-api) (0.7.1)\n",
      "Requirement already satisfied: requests in c:\\users\\checfeng\\appdata\\local\\programs\\python\\python311\\lib\\site-packages (from youtube-transcript-api) (2.32.3)\n",
      "Requirement already satisfied: google-ai-generativelanguage==0.6.10 in c:\\users\\checfeng\\appdata\\local\\programs\\python\\python311\\lib\\site-packages (from google-generativeai) (0.6.10)\n",
      "Requirement already satisfied: google-api-core in c:\\users\\checfeng\\appdata\\local\\programs\\python\\python311\\lib\\site-packages (from google-generativeai) (2.24.0)\n",
      "Requirement already satisfied: google-api-python-client in c:\\users\\checfeng\\appdata\\local\\programs\\python\\python311\\lib\\site-packages (from google-generativeai) (2.158.0)\n",
      "Requirement already satisfied: google-auth>=2.15.0 in c:\\users\\checfeng\\appdata\\local\\programs\\python\\python311\\lib\\site-packages (from google-generativeai) (2.37.0)\n",
      "Requirement already satisfied: protobuf in c:\\users\\checfeng\\appdata\\local\\programs\\python\\python311\\lib\\site-packages (from google-generativeai) (5.29.3)\n",
      "Requirement already satisfied: pydantic in c:\\users\\checfeng\\appdata\\local\\programs\\python\\python311\\lib\\site-packages (from google-generativeai) (2.9.2)\n",
      "Requirement already satisfied: tqdm in c:\\users\\checfeng\\appdata\\local\\programs\\python\\python311\\lib\\site-packages (from google-generativeai) (4.67.1)\n",
      "Requirement already satisfied: typing-extensions in c:\\users\\checfeng\\appdata\\local\\programs\\python\\python311\\lib\\site-packages (from google-generativeai) (4.12.2)\n",
      "Requirement already satisfied: proto-plus<2.0.0dev,>=1.22.3 in c:\\users\\checfeng\\appdata\\local\\programs\\python\\python311\\lib\\site-packages (from google-ai-generativelanguage==0.6.10->google-generativeai) (1.25.0)\n",
      "Requirement already satisfied: beautifulsoup4>=4.9 in c:\\users\\checfeng\\appdata\\local\\programs\\python\\python311\\lib\\site-packages (from googlesearch-python) (4.12.3)\n",
      "Requirement already satisfied: soupsieve>1.2 in c:\\users\\checfeng\\appdata\\local\\programs\\python\\python311\\lib\\site-packages (from beautifulsoup4>=4.9->googlesearch-python) (2.6)\n",
      "Requirement already satisfied: googleapis-common-protos<2.0.dev0,>=1.56.2 in c:\\users\\checfeng\\appdata\\local\\programs\\python\\python311\\lib\\site-packages (from google-api-core->google-generativeai) (1.66.0)\n",
      "Requirement already satisfied: cachetools<6.0,>=2.0.0 in c:\\users\\checfeng\\appdata\\local\\programs\\python\\python311\\lib\\site-packages (from google-auth>=2.15.0->google-generativeai) (5.5.0)\n",
      "Requirement already satisfied: pyasn1-modules>=0.2.1 in c:\\users\\checfeng\\appdata\\local\\programs\\python\\python311\\lib\\site-packages (from google-auth>=2.15.0->google-generativeai) (0.4.1)\n",
      "Requirement already satisfied: rsa<5,>=3.1.4 in c:\\users\\checfeng\\appdata\\local\\programs\\python\\python311\\lib\\site-packages (from google-auth>=2.15.0->google-generativeai) (4.9)\n",
      "Requirement already satisfied: charset-normalizer<4,>=2 in c:\\users\\checfeng\\appdata\\local\\programs\\python\\python311\\lib\\site-packages (from requests->youtube-transcript-api) (3.4.1)\n",
      "Requirement already satisfied: idna<4,>=2.5 in c:\\users\\checfeng\\appdata\\local\\programs\\python\\python311\\lib\\site-packages (from requests->youtube-transcript-api) (3.10)\n",
      "Requirement already satisfied: urllib3<3,>=1.21.1 in c:\\users\\checfeng\\appdata\\local\\programs\\python\\python311\\lib\\site-packages (from requests->youtube-transcript-api) (2.3.0)\n",
      "Requirement already satisfied: certifi>=2017.4.17 in c:\\users\\checfeng\\appdata\\local\\programs\\python\\python311\\lib\\site-packages (from requests->youtube-transcript-api) (2024.12.14)\n",
      "Requirement already satisfied: httplib2<1.dev0,>=0.19.0 in c:\\users\\checfeng\\appdata\\local\\programs\\python\\python311\\lib\\site-packages (from google-api-python-client->google-generativeai) (0.22.0)\n",
      "Requirement already satisfied: google-auth-httplib2<1.0.0,>=0.2.0 in c:\\users\\checfeng\\appdata\\local\\programs\\python\\python311\\lib\\site-packages (from google-api-python-client->google-generativeai) (0.2.0)\n",
      "Requirement already satisfied: uritemplate<5,>=3.0.1 in c:\\users\\checfeng\\appdata\\local\\programs\\python\\python311\\lib\\site-packages (from google-api-python-client->google-generativeai) (4.1.1)\n",
      "Requirement already satisfied: annotated-types>=0.6.0 in c:\\users\\checfeng\\appdata\\local\\programs\\python\\python311\\lib\\site-packages (from pydantic->google-generativeai) (0.7.0)\n",
      "Requirement already satisfied: pydantic-core==2.23.4 in c:\\users\\checfeng\\appdata\\local\\programs\\python\\python311\\lib\\site-packages (from pydantic->google-generativeai) (2.23.4)\n",
      "Requirement already satisfied: colorama in c:\\users\\checfeng\\appdata\\local\\programs\\python\\python311\\lib\\site-packages (from tqdm->google-generativeai) (0.4.6)\n",
      "Requirement already satisfied: grpcio<2.0dev,>=1.33.2 in c:\\users\\checfeng\\appdata\\local\\programs\\python\\python311\\lib\\site-packages (from google-api-core[grpc]!=2.0.*,!=2.1.*,!=2.10.*,!=2.2.*,!=2.3.*,!=2.4.*,!=2.5.*,!=2.6.*,!=2.7.*,!=2.8.*,!=2.9.*,<3.0.0dev,>=1.34.1->google-ai-generativelanguage==0.6.10->google-generativeai) (1.69.0)\n",
      "Requirement already satisfied: grpcio-status<2.0.dev0,>=1.33.2 in c:\\users\\checfeng\\appdata\\local\\programs\\python\\python311\\lib\\site-packages (from google-api-core[grpc]!=2.0.*,!=2.1.*,!=2.10.*,!=2.2.*,!=2.3.*,!=2.4.*,!=2.5.*,!=2.6.*,!=2.7.*,!=2.8.*,!=2.9.*,<3.0.0dev,>=1.34.1->google-ai-generativelanguage==0.6.10->google-generativeai) (1.69.0)\n",
      "Requirement already satisfied: pyparsing!=3.0.0,!=3.0.1,!=3.0.2,!=3.0.3,<4,>=2.4.2 in c:\\users\\checfeng\\appdata\\local\\programs\\python\\python311\\lib\\site-packages (from httplib2<1.dev0,>=0.19.0->google-api-python-client->google-generativeai) (3.2.1)\n",
      "Requirement already satisfied: pyasn1<0.7.0,>=0.4.6 in c:\\users\\checfeng\\appdata\\local\\programs\\python\\python311\\lib\\site-packages (from pyasn1-modules>=0.2.1->google-auth>=2.15.0->google-generativeai) (0.6.1)\n",
      "Downloading googlesearch_python-1.3.0-py3-none-any.whl (5.6 kB)\n",
      "Installing collected packages: googlesearch-python\n",
      "Successfully installed googlesearch-python-1.3.0\n"
     ]
    },
    {
     "name": "stderr",
     "output_type": "stream",
     "text": [
      "\n",
      "[notice] A new release of pip is available: 24.3.1 -> 25.0.1\n",
      "[notice] To update, run: python.exe -m pip install --upgrade pip\n"
     ]
    }
   ],
   "source": [
    "!pip install youtube-transcript-api google-generativeai googlesearch-python"
   ]
  },
  {
   "cell_type": "code",
   "execution_count": 19,
   "id": "8d7887e4-be0f-420b-88be-91f041cc59ab",
   "metadata": {},
   "outputs": [],
   "source": [
    "import os\n",
    "import re\n",
    "import json\n",
    "import time\n",
    "import requests\n",
    "import google.generativeai as genai\n",
    "from dotenv import load_dotenv\n",
    "from IPython.display import Markdown, display\n",
    "from youtube_transcript_api import YouTubeTranscriptApi\n",
    "from googlesearch import search\n",
    "from bs4 import BeautifulSoup\n",
    "\n"
   ]
  },
  {
   "cell_type": "markdown",
   "id": "d6741b6a-a1dd-4600-a909-3033f2d39d1c",
   "metadata": {},
   "source": [
    "# Google search"
   ]
  },
  {
   "cell_type": "code",
   "execution_count": 32,
   "id": "b032da42-5426-4b39-be7a-eb4aacc0d4fe",
   "metadata": {},
   "outputs": [],
   "source": [
    "class YoutubeSearch:\n",
    "    def __init__(self, keyword, num_results=10, lang=\"en\"):\n",
    "        self.site = \"www.youtube.com\"\n",
    "        self.keywork = keyword\n",
    "        self.num_results = num_results\n",
    "        self.lang = lang\n",
    "        self.results = self.get_link()\n",
    "        self.titles = self.get_titles()\n",
    "        \n",
    "\n",
    "    def get_link(self):\n",
    "        results = [ result for result in search(f\"site:{self.site} {self.keywork}\", \n",
    "                                               num_results=self.num_results, \n",
    "                                              lang=self.lang)][1:]\n",
    "        return results\n",
    "        \n",
    "    def get_titles(self):\n",
    "        headers = {\"User-Agent\": \"Mozilla/5.0 (Windows NT 10.0; Win64; x64) AppleWebKit/537.36 (KHTML, like Gecko) Chrome/117.0.0.0 Safari/537.36\"\n",
    "}\n",
    "        titles=[]\n",
    "        for url in self.results:\n",
    "            response = requests.get(url, headers=headers)\n",
    "            soup = BeautifulSoup(response.content, 'html.parser')\n",
    "            title = soup.title.string if soup.title else \"No title found\"\n",
    "            titles.append((title,url))\n",
    "        return titles\n",
    "        "
   ]
  },
  {
   "cell_type": "code",
   "execution_count": 33,
   "id": "c3f9684d-4d6e-4b96-bb3c-14bfa2ae2364",
   "metadata": {},
   "outputs": [
    {
     "data": {
      "text/plain": [
       "[('Artificial Intelligence Full Course 2025 | Artificial Intelligence Tutorial | AI Course |Simplilearn - YouTube',\n",
       "  'https://www.youtube.com/watch?v=vScGLqbeWbs'),\n",
       " ('AI is changing war. Just not with killer robots - YouTube',\n",
       "  'https://www.youtube.com/watch?v=geaXM1EwZlg'),\n",
       " ('DeepSeek’s Lessons for Chinese AI - YouTube',\n",
       "  'https://www.youtube.com/watch?v=hFTqQ4boR-s'),\n",
       " (\"Innovating medicine with AI: Here's what to know - YouTube\",\n",
       "  'https://www.youtube.com/watch?v=wAqg7FtySNk'),\n",
       " ('Neural Networks & AI Explained - YouTube',\n",
       "  'https://www.youtube.com/watch?v=_ZE4B0sV7BM'),\n",
       " ('Impact of artificial intelligence: AI advancement changes businesses in unexpected ways - YouTube',\n",
       "  'https://www.youtube.com/watch?v=qWxjoBgd84k'),\n",
       " ('How Infrastructure is Powering the Age of AI - YouTube',\n",
       "  'https://www.youtube.com/watch?v=BCc29YKiOGk'),\n",
       " ('AI Trends for 2025 - YouTube',\n",
       "  'https://www.youtube.com/watch?v=5zuF4Ys1eAw'),\n",
       " ('How China’s New AI Model DeepSeek Is Threatening U.S. Dominance - YouTube',\n",
       "  'https://www.youtube.com/watch?v=WEBiebbeNCA')]"
      ]
     },
     "execution_count": 33,
     "metadata": {},
     "output_type": "execute_result"
    }
   ],
   "source": [
    "ytLinks = YoutubeSearch(keyword=\"AI\")\n",
    "ytLinks.titles"
   ]
  },
  {
   "cell_type": "markdown",
   "id": "f935af38-0587-4b5d-8088-4c91e14ccfa7",
   "metadata": {},
   "source": [
    "# load the google API key "
   ]
  },
  {
   "cell_type": "code",
   "execution_count": 34,
   "id": "25aa5cfb-2397-4c75-895a-cbef4f253ae9",
   "metadata": {},
   "outputs": [],
   "source": [
    "# Load environment variables in a file called .env\n",
    "load_dotenv()\n",
    "os.environ['GOOGLE_API_KEY'] = os.getenv('GOOGLE_API_KEY', 'your-key-if-not-using-env')"
   ]
  },
  {
   "cell_type": "code",
   "execution_count": 35,
   "id": "bf77bc78-8521-448e-ade0-6a824eb8addd",
   "metadata": {},
   "outputs": [],
   "source": [
    "# Start Google API\n",
    "\n",
    "load_dotenv(override=True)\n",
    "GOOGLE_API_KEY = os.getenv(\"GOOGLE_API_KEY\")\n",
    "MODEL = \"gemini-1.5-flash\"\n",
    "genai.configure(api_key=GOOGLE_API_KEY)"
   ]
  },
  {
   "cell_type": "code",
   "execution_count": 7,
   "id": "28de9dbf-088f-4485-96c5-8e6a24949426",
   "metadata": {},
   "outputs": [],
   "source": [
    "patterns = [\n",
    "        r\"(?:v=|/)([a-zA-Z0-9_-]{11})\",  # Matches v=... or /...\n",
    "        r\"(?:embed/|v/|watch\\?v=|youtu.be/|/v/)([a-zA-Z0-9_-]{11})\", # Matches embed, v/, watch?v=, youtu.be, /v/\n",
    "        r\"youtu\\.be/([a-zA-Z0-9_-]{11})\", # Matches youtu.be short links\n",
    "        r\"(?:/shorts/|/live/)([a-zA-Z0-9_-]{11})\", # Matches youtube shorts or live\n",
    "    ]"
   ]
  },
  {
   "cell_type": "code",
   "execution_count": 36,
   "id": "84353332-e9e2-4d93-9cb6-20ae94be87c4",
   "metadata": {},
   "outputs": [],
   "source": [
    "# Define the youtube transcript class \n",
    "class YTVideoTranscripter:\n",
    "    def __init__(self, url, languages=[\"en\"]):\n",
    "        self.url = url\n",
    "        self.language = languages\n",
    "        self.video_id = self.extract_video_id()\n",
    "        self.transcription = self.get_transcript()\n",
    "        self.systemPrompt = \"\"\"\n",
    "        You are a helpful assistant who provides concise and accurate summaries of text. Your task is to:\n",
    "        \n",
    "        - Capture the key points of the content.\n",
    "        - Keep the summary brief and easy to understand.\n",
    "        - Avoid summarizing overly lengthy texts or breaking them into excessively short summaries.\n",
    "        - Use bullet points where appropriate to enhance clarity and structure.\n",
    "        \"\"\"\n",
    "        self.translatePrompt = \"\"\"\n",
    "        You are a tranditional chinese translator. \n",
    "        You can translate the text to correctly an easily to read charactor in tradition chinese in a nice sentences.\n",
    "        \"\"\"\n",
    "        \n",
    "    def extract_video_id(self):\n",
    "        \"\"\"\n",
    "        Extracts the YouTube video ID from a given URL.\n",
    "        Supports both regular and shortened URLs.\n",
    "        \"\"\"\n",
    "        # Regular expression to match YouTube video URL and extract the video ID\n",
    "        regex = r\"(?:https?:\\/\\/)?(?:www\\.)?(?:youtube\\.com\\/(?:[^\\/\\n\\s]+\\/\\S+\\/|\\S*\\?v=)|(?:youtu\\.be\\/))([a-zA-Z0-9_-]{11})\"\n",
    "        match = re.match(regex, self.url)\n",
    "        \n",
    "        if match:\n",
    "            self.match = match\n",
    "            return match.group(1)\n",
    "        else:\n",
    "            raise ValueError(\"Invalid YouTube URL\")\n",
    "\n",
    "    def get_transcript(self):\n",
    "        try:\n",
    "            # Try to get the transcript in the desired language (Indonesian by default)\n",
    "            transcript = YouTubeTranscriptApi.get_transcript(self.video_id, languages=[self.language])\n",
    "            # Join all the 'text' fields into a single string\n",
    "            return \" \".join([item['text'] for item in transcript])\n",
    "        except Exception as e:\n",
    "            print(f\"Error fetching transcript: {e}\")\n",
    "            return None\n",
    "            \n",
    "    def transcriptSummarizer(self):\n",
    "        model = genai.GenerativeModel(model_name=MODEL,system_instruction=self.systemPrompt)\n",
    "        response = model.generate_content(self.transcription)\n",
    "        return response.text\n",
    "\n",
    "    def chinese(self):\n",
    "        model = genai.GenerativeModel(model_name=MODEL,system_instruction=self.translatePrompt)\n",
    "        response = model.generate_content(self.transcription)\n",
    "        return response.text\n",
    "        \n",
    "    def __str__(self):\n",
    "        return f\"Video ID: {self.video_id}\""
   ]
  },
  {
   "cell_type": "code",
   "execution_count": 11,
   "id": "ea1d90cd-b17c-4a63-a3cc-19a47fa61ce0",
   "metadata": {},
   "outputs": [
    {
     "name": "stdout",
     "output_type": "stream",
     "text": [
      "9243\n"
     ]
    }
   ],
   "source": [
    "# Example usage\n",
    "video_url = \"https://www.youtube.com/watch?v=LUttsadgSEY\"\n",
    "\n",
    "yt_video = YTVideoTranscripter(video_url, languages=\"en\")\n",
    "print(len(yt_video.transcription))"
   ]
  },
  {
   "cell_type": "code",
   "execution_count": 26,
   "id": "47e11182-6b27-46b3-8c45-78b3df2776d4",
   "metadata": {},
   "outputs": [
    {
     "data": {
      "text/plain": [
       "\"This video highlights five free online Harvard courses:\\n\\n*   **CS50: Introduction to Computer Science:** A highly popular course covering various programming languages (Scratch, C, Python, SQL, HTML, CSS, JavaScript) and fostering problem-solving skills applicable across fields.\\n\\n*   **R Basics:** Part of Harvard's data science program, this course teaches the R programming language for data analysis, visualization, and manipulation, preparing students for a high-demand field.\\n\\n*   **Digital Humanities:** This course explores the intersection of technology and humanities, using digital tools for research, data visualization, text analysis, and cultural preservation.\\n\\n*   **The Art of Persuasive Writing and Public Speaking:** Focusing on rhetoric, this course enhances communication skills crucial for various professions, emphasizing argument construction, storytelling, and body language.\\n\\n*   **Introduction to Artificial Intelligence with Python:**  This course introduces AI concepts and Python programming, covering search algorithms, machine learning, neural networks, and natural language processing, equipping students for a rapidly evolving job market.\\n\\n\\nThe video emphasizes that while these courses don't directly guarantee jobs, they provide valuable skills applicable across numerous career paths and may significantly increase future earning potential.  It also suggests exploring Coursera certifications for more direct job-seeking benefits.\\n\""
      ]
     },
     "execution_count": 26,
     "metadata": {},
     "output_type": "execute_result"
    }
   ],
   "source": [
    "yt_video.transcriptSummarizer()"
   ]
  },
  {
   "cell_type": "code",
   "execution_count": 23,
   "id": "c4fec6f6-d6ec-4c64-a286-36404dee50ff",
   "metadata": {},
   "outputs": [
    {
     "data": {
      "text/plain": [
       "\"all right we this one keeps coming up certifications certifications are not certificant of completion cations or when you study something that a company has that they offer then you travel to a proed location take that exam you either pass it or fail it if you pass it you are certified if you fail it you aren't they are certifications now again here's an easy way to remember if the certifications count is the person offering the certification the creator of the product so python.org python.org they are in charge of python they have no certifications no does that mean if corsera offers a python certification is valid no it is worthless worth list I promise we will throw out your resume if you put a python certification on it because we know for sure you have no idea what you're talking about so let's go back to it again did the person create the product how about all the snowflake certification snowflake shts are they valid yes why because snowflake created the product how about Microsoft what about Microsoft Sears right are all their certifications valid yes because they created the products how about Oracle or or Oracle search valid yes they created all the products they are certifying you with so if they don't create the products are worthless corsera how about that no they haven't created they're a bunch of academics it is worthless in the real world how about AWS what about all those AWS SE yes yes they're valid valid why because Amazon created AWS right so all their certifications that are specific to learning the AWS Cloud are valid you don't have to ask me if this certification or that certification is valid you don't have to do it all right let's trap this up if the company didn't create the product they're offering the certification for it's not a valid certification got it all right let's put that to bed all right let's talk about how you can get Lodge but here at 50% off my courses on machine learning and the data analyst track want to check out the courses come down here to hit view courses and then on the homepage simply come down and hit en roll now move over here to get started now come down here and you see that $50 youtube2 You Tube 25 hit apply and now with that coupon it is $25 the courses on logic bot are worth $25 each not to mention the downloads you've got the download for the SQL server interview questions if you understand that those are really interview questions and you learn that you'll get past almost any SQL server interview from a techical perspective all right there's a 100 page download on machine learning if you realize that I made that after I interviewed Amazon and that's what they use then maybe you'll understand the worth of the documents and the courses I've created all right all right thanks and have a great day\""
      ]
     },
     "execution_count": 23,
     "metadata": {},
     "output_type": "execute_result"
    }
   ],
   "source": [
    "yt_video.transcription"
   ]
  },
  {
   "cell_type": "code",
   "execution_count": 27,
   "id": "29b52795-244a-45d8-a324-160403763680",
   "metadata": {},
   "outputs": [
    {
     "data": {
      "text/plain": [
       "'今日我們將深入探討一些可能讓你大開眼界的內容：想像一下，免費獲得哈佛大學的教育！不，這不是《駭客任務》裡的錯誤，你也不需要時光機或一大筆錢。我們要談的是五門令人難以置信的免費哈佛線上課程，它們能讓你事業騰飛，比你說出「Veritas」（真理）還快！無論你是科技愛好者、數據高手，還是未來作家，這裡總有一門課程適合你。但在開始之前，讓我們先解決一個問題：是的，這些課程確實來自哈佛；是的，它們完全免費；不，你不需要是天才才能修讀它們，你只需要好奇心和學習的意願。所以，繫好安全帶，拿出你最喜歡的筆記工具，讓我們開始這段常春藤聯盟的冒險吧！\\n\\n首先，我們要介紹哈佛線上課程的皇冠上的明珠：CS50 計算機科學導論。我知道有些人可能在想：「計算機科學不是只有科技迷才學嗎？」等等，別急著脫下你的帽衫，這門課將比你說出「Hello, world！」還要快地改變你的看法。CS50 不只是一門課程，它是一種現象，是哈佛校園裡最大的課程，也成為全球最受歡迎的大規模線上公開課程（MOOCs）之一。根據 Class Central 的數據，截至 2023 年，已有超過 370 萬人線上報名 CS50，這比一些國家的總人口還多！但是什麼讓 CS50 如此特別呢？它就像瑞士軍刀一樣，涵蓋了多種科技課程的內容。你將學習 Scratch（一種對初學者友好的程式語言）、C 語言（現代程式語言的鼻祖）、Python（編碼界的瑞士軍刀）、SQL（讓數據庫運作的語言），以及 HTML、CSS 和 JavaScript（網頁開發的聖三一）。而這僅僅只是冰山一角而已！別只聽我說，讓我們聽聽一位修過 CS50 的學員 Sarah 的感想：「在修讀 CS50 之前，我認為演算法只是天才電腦科學家才懂的東西。現在，我將演算法思維應用到日常生活中，從優化我的購物清單到管理工作中的項目，就好像我獲得了一雙新的眼睛去看待世界。」\\n\\n我知道你可能在想：聽起來很棒，但它真的適合初學者嗎？答案是肯定的！David J. Malan 教授，CS50 背後的魅力人物，擅長將複雜的概念化繁為簡。他曾用電話簿和鋸子來解釋記憶體配置，是的，你沒聽錯！但 CS50 不僅僅是學習編碼，更是培養解決問題的能力，這可以應用於任何領域。無論你是試圖優化廣告活動的行銷人員、開發課程的教師，還是正在打造下一個大項目的企業家，你從 CS50 中獲得的計算思維技能都將非常寶貴。最棒的是，你可以按照自己的步調修讀這門課，無論你是夜貓子在凌晨 2 點編碼，還是早起的鳥兒抓緊時間學習程式設計，CS50 都能融入你的時間安排。準備好開始這段計算之旅了嗎？記住 Malan 教授的話：「在這門課中，最終重要的不是你相對於同學的排名，而是你相對於自己開始時的進步。」\\n\\n\\n接下來，我們要介紹一門能讓你比說出「準備好了嗎？」還快地成為數據大師的課程：R 語言基礎。不，我們不是在談論海盜的課程，儘管大喊「R」可能會成為你的新嗜好。這門課是哈佛數據科學專業證書課程的一部分，是你成為數據高手的入學券。你可能會問，為什麼是 R 語言呢？用 RStudio 首席科學家 Hadley Wickham 的話來說：「R 是一種適合想要完成任務的人使用的語言，它不是為電腦科學家設計的，而是為需要進行計算的科學家設計的。」換句話說，R 是數據科學界的瑞士軍刀，用途廣泛、功能強大，一旦你掌握了它，使用起來將非常有趣。\\n\\n那麼，你將在這門課中學習到什麼呢？準備好深入探討吧！首先是 R 語法，數據科學的文法；然後是數據類型，了解資訊的基本組成單元；接著是向量，你數據處理方面的新好朋友；然後是排序，因為有時順序很重要；接下來是數據框，數據組織的強大工具；最後是數據視覺化，將數字轉化為賞心悅目的圖表。我知道有些人可能在想：數據科學聽起來很無聊，整天盯著數字看，對吧？讓我告訴你，數據科學就像在數位時代做偵探一樣，你會發現隱藏的模式、解決複雜的謎題，有時甚至可以預測未來。這就像擁有一種超能力！別只聽我說，讓我們聽聽一位修讀過這門課的學員的感想：「在修讀這門課之前，我認為數據科學全是關於複雜的數學，但『R 語言基礎』向我展示了它實際上是關於用數據講故事。現在，我將 R 用於我的行銷工作中，分析廣告活動的績效，它徹底改變了我們做決策的方式。」\\n\\n為什麼你應該關注數據科學呢？根據美國勞工統計局的數據，從 2021 年到 2031 年，數據科學家的就業人數預計將增長 36%，遠高於所有職業的平均水平。這不僅是增長，而是一場爆炸！不僅科技公司需要數據科學家，從醫療保健到金融，從體育到娛樂，各個行業都在尋找能夠理解其數據的人才。通過學習 R 語言，你獲得的不僅僅是一項新技能，更是打開了無數機會的大門。但重點是，這門課不僅僅是學習 R 語言，更是培養數據驅動的思維方式。你將學習如何提出正確的問題、系統地解決問題以及有效地傳達你的發現。這些技能將在任何職業生涯中都對你大有裨益。最棒的是，你可以免費、按照自己的步調，在舒適的椅子上學習所有這些內容。無論你是完全的初學者，還是想要為你的數據科學工具箱添加另一種工具的人，這門課都適合你。準備好說數據的語言了嗎？記住，在數據科學的世界裡，好奇心是你最大的資產。正如著名統計學家 John Tukey 所說：「成為統計學家的最棒之處，在於你可以到處玩。」\\n\\n\\n我們接下來轉換一下，深入一個連接人文科學和數位世界的領域。準備好成為數位文藝復興人吧！歡迎來到快速發展的數位人文科學世界！我知道你可能在想：「數位人文科學不就是用 Kindle 讀莎士比亞嗎？」別急著放下你的電子書，它遠不止於此。數位人文科學是科技與文化的交匯點，演算法與藝術的融合，數據與敘事的結合。這就像賦予人文科學一種超能力，而哈佛大學提供的這門課程，將是你成為文化密碼破譯者的入學券。\\n\\n那麼，你將學習到什麼呢？讓我們分解一下：首先是數位人文科學研究工具，你的新數位瑞士軍刀；然後是人文科學中的數據視覺化，使數百年來的文化易於理解；接著是文本分析和挖掘，揭示大量文本中的隱藏模式；然後是數位地圖和空間分析，將歷史和文化標示在地圖上；最後是數位保存和策展，在數位時代保護我們的文化遺產。你可能想知道，為什麼我應該關注數位人文科學？讓我這樣問你：你是否曾經好奇過莎士比亞的社交網路是什麼樣的？或者簡·奧斯汀小說中的情感是如何隨著時間推移而變化的？或者你對嘻哈歌詞的語言在幾十年間是如何演變的感到好奇？數位人文科學為你提供了回答這些問題以及更多問題的工具。這就像擁有一台時光機和超級電腦的結合體！別只聽我說，讓我們聽聽一位涉足這個數位文化前沿的學員的感想：「作為一名歷史專業的學生，我對將科技融入我的學習中持懷疑態度，但這門課讓我大開眼界，看到了全新的可能性。現在，我正在使用網路分析來研究啟蒙運動時期思想的傳播，這就像擁有一面非常酷炫的放大鏡一樣。」\\n\\n為什麼數位人文科學在今天的就業市場很重要呢？根據美國藝術與科學院 2023 年的一份報告，雇主越來越重視能夠彌合科技與人文科學之間差距的畢業生。他們想要那些不僅能處理數字，還能理解其文化背景的人。換句話說，數位人文科學畢業生就像就業市場的瑞士軍刀一樣，他們可以編碼、可以分析，也可以用數據講述引人入勝的故事。無論你對新聞、歷史、數據分析，甚至是科技創業感興趣，你從這門課中學到的技能都將給你帶來獨特的優勢。但話雖如此，這門課可能不會直接幫你找到工作，這就是 Coursera 等公司發揮作用的地方，他們的證書可以直接幫助你找到工作。我之前在這個頻道上談論過它們，實際上也做過層級列表和前 10 名排名等等。Coursera 上的一些專業證書可以免費審核，而要獲得證書，通常每月只需 40 到 50 美元。一定要查看一下，因為無論你做什麼，前 7 天都是免費的。我會把這些連結放在說明和置頂評論中，點擊查看吧！\\n\\n\\n接下來，我們要介紹一門能讓你成為現代西塞羅的課程：準備好掌握說服的藝術吧！這就是說服性寫作和公開演講的藝術。在你逃開之前，認為這只是關於花哨的詞彙和冗長的演講，讓我阻止你。這門課程將把你變成一個溝通超級英雄。我年紀越大，就越意識到溝通的重要性。隨著 AI 的發展，AI 無法讓你成為更好的溝通者，這是你必須自行練習和學習的東西，因為修辭學不僅僅是為政治家和律師準備的，它是一種超能力，可以提升你在任何領域的事業。無論你是向老闆推銷一個想法、向客戶展示一個項目、要求加薪，還是要求你的另一半倒垃圾，說服的藝術都是你的秘密武器。\\n\\n那麼，你將在這門課中學習到什麼呢？讓我們分解一下：首先是修辭學的三大支柱：ethos（品格）、pathos（情感）和 logos（邏輯），它們是你新的好朋友；然後是構思有說服力的論點，因為僅僅是事實並不能總是奏效；接著是講故事的力量，將枯燥的資訊轉化為引人入勝的敘事；然後是肢體語言和聲音技巧，因為你說話的方式和你說的話一樣重要；因為在溝通方面，一刀切是不行的。我不是天生的公開演講者，這門課真的適合我嗎？讓我告訴你一個小秘密，大多數偉大的溝通者都不是天生的，他們學習並練習這些技能。正如著名的演說家西塞羅所說：「演講的技巧不是賦予任何人的，但它可以被每個人習得。」別只聽我說，讓我們聽聽一位修讀過這個修辭訓練營的學員的感想：「在這門課之前，我害怕公開演講，我的手掌會出汗，我的聲音會顫抖，我的思緒會一片空白。但是學習修辭學的原則改變了一切。我最近在工作中做了一個簡報，這讓我的工作得到了提升，這就像我獲得了一種超能力。」\\n\\n為什麼修辭學在今天的就業市場如此重要呢？根據美國大學和雇主協會 2023 年的一項調查，溝通能力是雇主最看重的品質，在許多領域甚至超過技術技能。換句話說，能夠有效溝通不僅僅是一項不錯的技能，而是一項必備技能。這是擁有偉大想法和擁有得到落實的偉大想法之間的區別。這是可以將你的事業從優秀提升到偉大的秘密武器。但修辭學的真正魅力在於，它不僅僅是關於說話，更是關於思考。當你學習構建自己的論點並分析他人的說服技巧時，你會發現自己變得更具批判性思維能力。你將能夠識破華而不實的論點，並構建更有說服力的論點。最棒的是，你可以每天練習這些技能。你寫的每一封電子郵件、你參加的每一次會議、你進行的每一次對話，都是應用你在這門課中学到的知識的機會。正如哲學家亞里士多德所說：「我們是由我們重複做的事情構成的。卓越不是一種行為，而是一種習慣。」準備好成為說服的大師了嗎？記住，在修辭學的世界裡，你的話語是你的魔杖，你的聲音是你的超能力，每一次對話都是改變想法，甚至改變心靈的機會。\\n\\n\\n最後，我們要深入探討一門能讓你成為數位奇才的課程：準備好進入人工智能的迷人世界吧！歡迎來到讓你感覺像生活在未來的課程：Python 人工智能導論。我知道你可能在想：「人工智能不就是關於機器人接管世界嗎？」別急著抓住你的神經網路，人工智能遠不止於此。它是你的智慧型手機語音助理、你最喜歡的串流媒體服務的推薦演算法，甚至是檢測信用卡欺詐交易的系統背後的技術。簡而言之，人工智能無處不在，而這門課程將是你理解和創造人工智能的入學券。\\n\\n那麼，你將在這門課中學習到什麼呢？讓我們分解一下：首先是 Python 編程，人工智能奇才的語言；然後是搜尋演算法，教電腦尋找最佳解決方案；接著是知識表示，如何讓電腦思考；然後是機器學習，賦予電腦從數據中學習的能力；還有一個非常令人興奮的內容是神經網路，深度學習的基本組成單元；最後是自然語言處理，幫助電腦理解和生成人類語言。你可能在想：這聽起來很複雜，我需要是數學天才才能修讀這門課嗎？答案是否定的。雖然涉及一些數學概念，但這門課程的設計讓初學者也能輕鬆上手。正如著名的電腦科學家阿蘭·圖靈所說：「我們只能看到前方很短的一段距離，但我們在那裡可以看到很多需要去做的事情。」別只聽我說，讓我們聽聽一位涉足人工智能前沿的學員的感想：「在這門課之前，人工智能對我來說就像魔法一樣。現在，我理解了它背後的原理，甚至可以創建我自己的 AI 模型。我最近利用我所學的知識為我公司的客戶服務開發了一個聊天機器人，它是一個改變遊戲規則的東西。」\\n\\n為什麼你應該關注人工智能呢？根據 2023 年的一份報告，人工智能和機器學習專家位列就業需求不斷增長的前十大工作之列。該報告預測，到 2025 年，隨著勞動力分工的轉變，可能會有 8500 萬個工作崗位被取代，而這種勞動力分工當然是在人類和機器之間。但可能會有 9700 萬個新的角色出現，這些角色更適應這種新的勞動力分工。換句話說，人工智能不僅僅是一項很酷的技術，它正在重塑就業市場。通過學習人工智能，你獲得的不僅僅是一項新技能，更是為你的職業生涯未雨綢繆。無論你是在醫療保健、金融、行銷還是幾乎任何其他領域，理解人工智能都能讓你獲得顯著的優勢。但人工智能的真正魅力在於，它不僅僅是關於創造智慧型機器，更是關於以創新的方式解決複雜的問題。當你學習開發人工智能系統時，你會發現自己以不同的方式處理問題，更系統地思考，並在其他人看到混亂的地方看到模式。最棒的是，這門課程讓你獲得動手實踐的經驗。你將編寫自己的 AI 系統，從遊戲玩家代理到圖像識別演算法。正如著名的電腦科學家 Fei-Fei Li 所說：「如果你想讓 AI 更加強大，成為造福人類的一項偉大技術，你就必須讓它多元化。」準備好成為人工智能奇才了嗎？記住，在人工智能的世界裡，每一個問題都是一個機會，每一個數據集都是一個寶藏，每一個演算法都是走向未來的一步。是的，這五門課程都非常棒，但它們可能不會直接幫助你找到工作，它們將教你一些基礎技能，間接地幫助你找到工作，它們也可能會教你一些技能，讓你未來賺更多的錢。但如果你想查看一些可以直接幫助你找到工作的培訓和證書，一定要查看關於最佳 Coursera 證書的視頻，你可以點擊這裡查看。\\n'"
      ]
     },
     "execution_count": 27,
     "metadata": {},
     "output_type": "execute_result"
    }
   ],
   "source": [
    "yt_video.chinese()"
   ]
  },
  {
   "cell_type": "code",
   "execution_count": null,
   "id": "3730aaa0-9fd9-4ac1-b860-29d74b79c479",
   "metadata": {},
   "outputs": [],
   "source": [
    "test.add()"
   ]
  },
  {
   "cell_type": "code",
   "execution_count": null,
   "id": "123a204f",
   "metadata": {},
   "outputs": [],
   "source": []
  }
 ],
 "metadata": {
  "kernelspec": {
   "display_name": "Python 3 (ipykernel)",
   "language": "python",
   "name": "python3"
  },
  "language_info": {
   "codemirror_mode": {
    "name": "ipython",
    "version": 3
   },
   "file_extension": ".py",
   "mimetype": "text/x-python",
   "name": "python",
   "nbconvert_exporter": "python",
   "pygments_lexer": "ipython3",
   "version": "3.11.9"
  }
 },
 "nbformat": 4,
 "nbformat_minor": 5
}
