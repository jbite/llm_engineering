{
 "cells": [
  {
   "cell_type": "markdown",
   "id": "5d708125-df00-4799-bd2c-c5c186bda525",
   "metadata": {},
   "source": [
    "# Import library\n",
    "those are the requirement for the application"
   ]
  },
  {
   "cell_type": "code",
   "execution_count": 3,
   "id": "0ba5c863-a8f3-4fc9-9c7e-d3192a4ac91f",
   "metadata": {
    "scrolled": true
   },
   "outputs": [
    {
     "name": "stdout",
     "output_type": "stream",
     "text": [
      "Requirement already satisfied: youtube-transcript-api in c:\\users\\bited\\appdata\\local\\programs\\python\\python311\\lib\\site-packages (0.6.3)\n",
      "Requirement already satisfied: google-generativeai in c:\\users\\bited\\appdata\\local\\programs\\python\\python311\\lib\\site-packages (0.8.3)\n",
      "Requirement already satisfied: defusedxml<0.8.0,>=0.7.1 in c:\\users\\bited\\appdata\\local\\programs\\python\\python311\\lib\\site-packages (from youtube-transcript-api) (0.7.1)\n",
      "Requirement already satisfied: requests in c:\\users\\bited\\appdata\\local\\programs\\python\\python311\\lib\\site-packages (from youtube-transcript-api) (2.32.3)\n",
      "Requirement already satisfied: google-ai-generativelanguage==0.6.10 in c:\\users\\bited\\appdata\\local\\programs\\python\\python311\\lib\\site-packages (from google-generativeai) (0.6.10)\n",
      "Requirement already satisfied: google-api-core in c:\\users\\bited\\appdata\\local\\programs\\python\\python311\\lib\\site-packages (from google-generativeai) (2.24.0)\n",
      "Requirement already satisfied: google-api-python-client in c:\\users\\bited\\appdata\\local\\programs\\python\\python311\\lib\\site-packages (from google-generativeai) (2.156.0)\n",
      "Requirement already satisfied: google-auth>=2.15.0 in c:\\users\\bited\\appdata\\local\\programs\\python\\python311\\lib\\site-packages (from google-generativeai) (2.37.0)\n",
      "Requirement already satisfied: protobuf in c:\\users\\bited\\appdata\\local\\programs\\python\\python311\\lib\\site-packages (from google-generativeai) (5.29.1)\n",
      "Requirement already satisfied: pydantic in c:\\users\\bited\\appdata\\local\\programs\\python\\python311\\lib\\site-packages (from google-generativeai) (2.9.2)\n",
      "Requirement already satisfied: tqdm in c:\\users\\bited\\appdata\\local\\programs\\python\\python311\\lib\\site-packages (from google-generativeai) (4.67.1)\n",
      "Requirement already satisfied: typing-extensions in c:\\users\\bited\\appdata\\local\\programs\\python\\python311\\lib\\site-packages (from google-generativeai) (4.12.2)\n",
      "Requirement already satisfied: proto-plus<2.0.0dev,>=1.22.3 in c:\\users\\bited\\appdata\\local\\programs\\python\\python311\\lib\\site-packages (from google-ai-generativelanguage==0.6.10->google-generativeai) (1.25.0)\n",
      "Requirement already satisfied: googleapis-common-protos<2.0.dev0,>=1.56.2 in c:\\users\\bited\\appdata\\local\\programs\\python\\python311\\lib\\site-packages (from google-api-core->google-generativeai) (1.66.0)\n",
      "Requirement already satisfied: cachetools<6.0,>=2.0.0 in c:\\users\\bited\\appdata\\local\\programs\\python\\python311\\lib\\site-packages (from google-auth>=2.15.0->google-generativeai) (5.5.0)\n",
      "Requirement already satisfied: pyasn1-modules>=0.2.1 in c:\\users\\bited\\appdata\\local\\programs\\python\\python311\\lib\\site-packages (from google-auth>=2.15.0->google-generativeai) (0.4.1)\n",
      "Requirement already satisfied: rsa<5,>=3.1.4 in c:\\users\\bited\\appdata\\local\\programs\\python\\python311\\lib\\site-packages (from google-auth>=2.15.0->google-generativeai) (4.9)\n",
      "Requirement already satisfied: charset-normalizer<4,>=2 in c:\\users\\bited\\appdata\\local\\programs\\python\\python311\\lib\\site-packages (from requests->youtube-transcript-api) (3.4.0)\n",
      "Requirement already satisfied: idna<4,>=2.5 in c:\\users\\bited\\appdata\\local\\programs\\python\\python311\\lib\\site-packages (from requests->youtube-transcript-api) (3.10)\n",
      "Requirement already satisfied: urllib3<3,>=1.21.1 in c:\\users\\bited\\appdata\\local\\programs\\python\\python311\\lib\\site-packages (from requests->youtube-transcript-api) (2.2.3)\n",
      "Requirement already satisfied: certifi>=2017.4.17 in c:\\users\\bited\\appdata\\local\\programs\\python\\python311\\lib\\site-packages (from requests->youtube-transcript-api) (2024.8.30)\n",
      "Requirement already satisfied: httplib2<1.dev0,>=0.19.0 in c:\\users\\bited\\appdata\\local\\programs\\python\\python311\\lib\\site-packages (from google-api-python-client->google-generativeai) (0.22.0)\n",
      "Requirement already satisfied: google-auth-httplib2<1.0.0,>=0.2.0 in c:\\users\\bited\\appdata\\local\\programs\\python\\python311\\lib\\site-packages (from google-api-python-client->google-generativeai) (0.2.0)\n",
      "Requirement already satisfied: uritemplate<5,>=3.0.1 in c:\\users\\bited\\appdata\\local\\programs\\python\\python311\\lib\\site-packages (from google-api-python-client->google-generativeai) (4.1.1)\n",
      "Requirement already satisfied: annotated-types>=0.6.0 in c:\\users\\bited\\appdata\\local\\programs\\python\\python311\\lib\\site-packages (from pydantic->google-generativeai) (0.7.0)\n",
      "Requirement already satisfied: pydantic-core==2.23.4 in c:\\users\\bited\\appdata\\local\\programs\\python\\python311\\lib\\site-packages (from pydantic->google-generativeai) (2.23.4)\n",
      "Requirement already satisfied: colorama in c:\\users\\bited\\appdata\\local\\programs\\python\\python311\\lib\\site-packages (from tqdm->google-generativeai) (0.4.6)\n",
      "Requirement already satisfied: grpcio<2.0dev,>=1.33.2 in c:\\users\\bited\\appdata\\local\\programs\\python\\python311\\lib\\site-packages (from google-api-core[grpc]!=2.0.*,!=2.1.*,!=2.10.*,!=2.2.*,!=2.3.*,!=2.4.*,!=2.5.*,!=2.6.*,!=2.7.*,!=2.8.*,!=2.9.*,<3.0.0dev,>=1.34.1->google-ai-generativelanguage==0.6.10->google-generativeai) (1.68.1)\n",
      "Requirement already satisfied: grpcio-status<2.0.dev0,>=1.33.2 in c:\\users\\bited\\appdata\\local\\programs\\python\\python311\\lib\\site-packages (from google-api-core[grpc]!=2.0.*,!=2.1.*,!=2.10.*,!=2.2.*,!=2.3.*,!=2.4.*,!=2.5.*,!=2.6.*,!=2.7.*,!=2.8.*,!=2.9.*,<3.0.0dev,>=1.34.1->google-ai-generativelanguage==0.6.10->google-generativeai) (1.68.1)\n",
      "Requirement already satisfied: pyparsing!=3.0.0,!=3.0.1,!=3.0.2,!=3.0.3,<4,>=2.4.2 in c:\\users\\bited\\appdata\\local\\programs\\python\\python311\\lib\\site-packages (from httplib2<1.dev0,>=0.19.0->google-api-python-client->google-generativeai) (3.2.0)\n",
      "Requirement already satisfied: pyasn1<0.7.0,>=0.4.6 in c:\\users\\bited\\appdata\\local\\programs\\python\\python311\\lib\\site-packages (from pyasn1-modules>=0.2.1->google-auth>=2.15.0->google-generativeai) (0.6.1)\n"
     ]
    }
   ],
   "source": [
    "!pip install youtube-transcript-api google-generativeai"
   ]
  },
  {
   "cell_type": "code",
   "execution_count": 13,
   "id": "8d7887e4-be0f-420b-88be-91f041cc59ab",
   "metadata": {},
   "outputs": [],
   "source": [
    "import os\n",
    "from dotenv import load_dotenv\n",
    "from IPython.display import Markdown, display\n",
    "import google.generativeai as genai\n",
    "import time\n",
    "from youtube_transcript_api import YouTubeTranscriptApi\n",
    "import re\n",
    "from IPython.display import Markdown, display"
   ]
  },
  {
   "cell_type": "markdown",
   "id": "f935af38-0587-4b5d-8088-4c91e14ccfa7",
   "metadata": {},
   "source": [
    "# load the google API key "
   ]
  },
  {
   "cell_type": "code",
   "execution_count": 5,
   "id": "25aa5cfb-2397-4c75-895a-cbef4f253ae9",
   "metadata": {},
   "outputs": [],
   "source": [
    "# Load environment variables in a file called .env\n",
    "load_dotenv()\n",
    "os.environ['GOOGLE_API_KEY'] = os.getenv('GOOGLE_API_KEY', 'your-key-if-not-using-env')"
   ]
  },
  {
   "cell_type": "code",
   "execution_count": 6,
   "id": "bf77bc78-8521-448e-ade0-6a824eb8addd",
   "metadata": {},
   "outputs": [],
   "source": [
    "# Start Google API\n",
    "\n",
    "load_dotenv(override=True)\n",
    "GOOGLE_API_KEY = os.getenv(\"GOOGLE_API_KEY\")\n",
    "MODEL = \"gemini-1.5-flash\"\n",
    "genai.configure(api_key=GOOGLE_API_KEY)"
   ]
  },
  {
   "cell_type": "code",
   "execution_count": 7,
   "id": "28de9dbf-088f-4485-96c5-8e6a24949426",
   "metadata": {},
   "outputs": [],
   "source": [
    "patterns = [\n",
    "        r\"(?:v=|/)([a-zA-Z0-9_-]{11})\",  # Matches v=... or /...\n",
    "        r\"(?:embed/|v/|watch\\?v=|youtu.be/|/v/)([a-zA-Z0-9_-]{11})\", # Matches embed, v/, watch?v=, youtu.be, /v/\n",
    "        r\"youtu\\.be/([a-zA-Z0-9_-]{11})\", # Matches youtu.be short links\n",
    "        r\"(?:/shorts/|/live/)([a-zA-Z0-9_-]{11})\", # Matches youtube shorts or live\n",
    "    ]"
   ]
  },
  {
   "cell_type": "code",
   "execution_count": 10,
   "id": "84353332-e9e2-4d93-9cb6-20ae94be87c4",
   "metadata": {},
   "outputs": [],
   "source": [
    "# Define the youtube transcript class \n",
    "class YTVideoTranscripter:\n",
    "    def __init__(self, url, languages=[\"en\"]):\n",
    "        self.url = url\n",
    "        self.language = languages\n",
    "        self.video_id = self.extract_video_id()\n",
    "        self.transcription = self.get_transcript()\n",
    "        self.systemPrompt = \"\"\"\n",
    "        You are a helpful assistant who provides concise and accurate summaries of text. Your task is to:\n",
    "        \n",
    "        - Capture the key points of the content.\n",
    "        - Keep the summary brief and easy to understand.\n",
    "        - Avoid summarizing overly lengthy texts or breaking them into excessively short summaries.\n",
    "        - Use bullet points where appropriate to enhance clarity and structure.\n",
    "        \"\"\"\n",
    "        \n",
    "    def extract_video_id(self):\n",
    "        \"\"\"\n",
    "        Extracts the YouTube video ID from a given URL.\n",
    "        Supports both regular and shortened URLs.\n",
    "        \"\"\"\n",
    "        # Regular expression to match YouTube video URL and extract the video ID\n",
    "        regex = r\"(?:https?:\\/\\/)?(?:www\\.)?(?:youtube\\.com\\/(?:[^\\/\\n\\s]+\\/\\S+\\/|\\S*\\?v=)|(?:youtu\\.be\\/))([a-zA-Z0-9_-]{11})\"\n",
    "        match = re.match(regex, self.url)\n",
    "        \n",
    "        if match:\n",
    "            self.match = match\n",
    "            return match.group(1)\n",
    "        else:\n",
    "            raise ValueError(\"Invalid YouTube URL\")\n",
    "\n",
    "    def get_transcript(self):\n",
    "        try:\n",
    "            # Try to get the transcript in the desired language (Indonesian by default)\n",
    "            transcript = YouTubeTranscriptApi.get_transcript(self.video_id, languages=[self.language])\n",
    "            # Join all the 'text' fields into a single string\n",
    "            return \" \".join([item['text'] for item in transcript])\n",
    "        except Exception as e:\n",
    "            print(f\"Error fetching transcript: {e}\")\n",
    "            return None\n",
    "            \n",
    "    def transcriptSummarizer(self):\n",
    "        model = genai.GenerativeModel(model_name=MODEL,system_instruction=self.systemPrompt)\n",
    "        response = model.generate_content(self.transcription)\n",
    "        return response.text\n",
    "        \n",
    "        \n",
    "    def __str__(self):\n",
    "        return f\"Video ID: {self.video_id}\""
   ]
  },
  {
   "cell_type": "code",
   "execution_count": 11,
   "id": "ea1d90cd-b17c-4a63-a3cc-19a47fa61ce0",
   "metadata": {},
   "outputs": [
    {
     "name": "stdout",
     "output_type": "stream",
     "text": [
      "9243\n"
     ]
    }
   ],
   "source": [
    "# Example usage\n",
    "video_url = \"https://www.youtube.com/watch?v=LUttsadgSEY\"\n",
    "\n",
    "yt_video = YTVideoTranscripter(video_url, languages=\"en\")\n",
    "print(len(yt_video.transcription))"
   ]
  },
  {
   "cell_type": "code",
   "execution_count": 15,
   "id": "47e11182-6b27-46b3-8c45-78b3df2776d4",
   "metadata": {},
   "outputs": [
    {
     "data": {
      "text/plain": [
       "\"This video presents five AI frameworks useful for building AI applications:\\n\\n*   **LangChain:** A Python-based framework for working with LLMs, simplifying tasks like prompt templates, output parsing, and managing vector databases.  It facilitates creating chains of operations.\\n\\n*   **LangFlow:** A visual, low-code editor similar to LangChain, allowing users to build LLM-based apps via drag-and-drop functionality.\\n\\n*   **Ollama:** A free, open-source tool for running LLMs locally on your computer, eliminating reliance on third-party services. Requires high-end hardware for optimal performance.\\n\\n*   **LlamaIndex:** A Python framework focused on handling large datasets for AI applications, offering features like document extraction and text chunking.  It emphasizes working with enterprise-grade data.\\n\\n*   **Hugging Face Transformers:** An open-source Python module simplifying the use of transformer-based models for various tasks (NLP, audio, video processing), offering pre-trained models for tasks like classification and sentiment analysis.  It's easier to use than PyTorch or TensorFlow.\\n\""
      ]
     },
     "execution_count": 15,
     "metadata": {},
     "output_type": "execute_result"
    }
   ],
   "source": [
    "yt_video.transcriptSummarizer()"
   ]
  },
  {
   "cell_type": "code",
   "execution_count": null,
   "id": "c4fec6f6-d6ec-4c64-a286-36404dee50ff",
   "metadata": {},
   "outputs": [],
   "source": []
  }
 ],
 "metadata": {
  "kernelspec": {
   "display_name": "Python 3 (ipykernel)",
   "language": "python",
   "name": "python3"
  },
  "language_info": {
   "codemirror_mode": {
    "name": "ipython",
    "version": 3
   },
   "file_extension": ".py",
   "mimetype": "text/x-python",
   "name": "python",
   "nbconvert_exporter": "python",
   "pygments_lexer": "ipython3",
   "version": "3.11.9"
  }
 },
 "nbformat": 4,
 "nbformat_minor": 5
}
